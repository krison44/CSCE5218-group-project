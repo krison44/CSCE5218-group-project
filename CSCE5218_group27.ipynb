{
 "cells": [
  {
   "cell_type": "code",
   "execution_count": 1,
   "id": "ccd16198",
   "metadata": {},
   "outputs": [],
   "source": [
    "# Team Members\n",
    "\n",
    "# Pooja Goyal\n",
    "# Roshan Sah\n",
    "# Sanjib Paudel\n",
    "# Sourabh Yadav"
   ]
  },
  {
   "cell_type": "code",
   "execution_count": 2,
   "id": "320d9340",
   "metadata": {},
   "outputs": [
    {
     "name": "stdout",
     "output_type": "stream",
     "text": [
      "Requirement already satisfied: pandas in /opt/anaconda3/lib/python3.8/site-packages (1.2.4)\n",
      "Requirement already satisfied: python-dateutil>=2.7.3 in /opt/anaconda3/lib/python3.8/site-packages (from pandas) (2.8.1)\n",
      "Requirement already satisfied: pytz>=2017.3 in /opt/anaconda3/lib/python3.8/site-packages (from pandas) (2021.1)\n",
      "Requirement already satisfied: numpy>=1.16.5 in /opt/anaconda3/lib/python3.8/site-packages (from pandas) (1.20.1)\n",
      "Requirement already satisfied: six>=1.5 in /opt/anaconda3/lib/python3.8/site-packages (from python-dateutil>=2.7.3->pandas) (1.15.0)\n",
      "Requirement already satisfied: matplotlib in /opt/anaconda3/lib/python3.8/site-packages (3.3.4)\n",
      "Requirement already satisfied: python-dateutil>=2.1 in /opt/anaconda3/lib/python3.8/site-packages (from matplotlib) (2.8.1)\n",
      "Requirement already satisfied: numpy>=1.15 in /opt/anaconda3/lib/python3.8/site-packages (from matplotlib) (1.20.1)\n",
      "Requirement already satisfied: pyparsing!=2.0.4,!=2.1.2,!=2.1.6,>=2.0.3 in /opt/anaconda3/lib/python3.8/site-packages (from matplotlib) (2.4.7)\n",
      "Requirement already satisfied: cycler>=0.10 in /opt/anaconda3/lib/python3.8/site-packages (from matplotlib) (0.10.0)\n",
      "Requirement already satisfied: kiwisolver>=1.0.1 in /opt/anaconda3/lib/python3.8/site-packages (from matplotlib) (1.3.1)\n",
      "Requirement already satisfied: pillow>=6.2.0 in /opt/anaconda3/lib/python3.8/site-packages (from matplotlib) (8.2.0)\n",
      "Requirement already satisfied: six in /opt/anaconda3/lib/python3.8/site-packages (from cycler>=0.10->matplotlib) (1.15.0)\n",
      "Requirement already satisfied: numpy in /opt/anaconda3/lib/python3.8/site-packages (1.20.1)\n",
      "Requirement already satisfied: imblearn in /opt/anaconda3/lib/python3.8/site-packages (0.0)\n",
      "Requirement already satisfied: imbalanced-learn in /opt/anaconda3/lib/python3.8/site-packages (from imblearn) (0.9.0)\n",
      "Requirement already satisfied: scipy>=1.1.0 in /opt/anaconda3/lib/python3.8/site-packages (from imbalanced-learn->imblearn) (1.6.2)\n",
      "Requirement already satisfied: threadpoolctl>=2.0.0 in /opt/anaconda3/lib/python3.8/site-packages (from imbalanced-learn->imblearn) (2.1.0)\n",
      "Requirement already satisfied: numpy>=1.14.6 in /opt/anaconda3/lib/python3.8/site-packages (from imbalanced-learn->imblearn) (1.20.1)\n",
      "Requirement already satisfied: joblib>=0.11 in /opt/anaconda3/lib/python3.8/site-packages (from imbalanced-learn->imblearn) (1.0.1)\n",
      "Requirement already satisfied: scikit-learn>=1.0.1 in /opt/anaconda3/lib/python3.8/site-packages (from imbalanced-learn->imblearn) (1.0.2)\n",
      "Requirement already satisfied: tensorflow in /opt/anaconda3/lib/python3.8/site-packages (2.7.0)\n",
      "Requirement already satisfied: h5py>=2.9.0 in /opt/anaconda3/lib/python3.8/site-packages (from tensorflow) (2.10.0)\n",
      "Requirement already satisfied: keras<2.8,>=2.7.0rc0 in /opt/anaconda3/lib/python3.8/site-packages (from tensorflow) (2.7.0)\n",
      "Requirement already satisfied: gast<0.5.0,>=0.2.1 in /opt/anaconda3/lib/python3.8/site-packages (from tensorflow) (0.4.0)\n",
      "Requirement already satisfied: absl-py>=0.4.0 in /opt/anaconda3/lib/python3.8/site-packages (from tensorflow) (1.0.0)\n",
      "Requirement already satisfied: numpy>=1.14.5 in /opt/anaconda3/lib/python3.8/site-packages (from tensorflow) (1.20.1)\n",
      "Requirement already satisfied: libclang>=9.0.1 in /opt/anaconda3/lib/python3.8/site-packages (from tensorflow) (12.0.0)\n",
      "Requirement already satisfied: keras-preprocessing>=1.1.1 in /opt/anaconda3/lib/python3.8/site-packages (from tensorflow) (1.1.2)\n",
      "Requirement already satisfied: flatbuffers<3.0,>=1.12 in /opt/anaconda3/lib/python3.8/site-packages (from tensorflow) (2.0)\n",
      "Requirement already satisfied: wheel<1.0,>=0.32.0 in /opt/anaconda3/lib/python3.8/site-packages (from tensorflow) (0.36.2)\n",
      "Requirement already satisfied: protobuf>=3.9.2 in /opt/anaconda3/lib/python3.8/site-packages (from tensorflow) (3.19.1)\n",
      "Requirement already satisfied: wrapt>=1.11.0 in /opt/anaconda3/lib/python3.8/site-packages (from tensorflow) (1.12.1)\n",
      "Requirement already satisfied: grpcio<2.0,>=1.24.3 in /opt/anaconda3/lib/python3.8/site-packages (from tensorflow) (1.41.1)\n",
      "Requirement already satisfied: tensorboard~=2.6 in /opt/anaconda3/lib/python3.8/site-packages (from tensorflow) (2.7.0)\n",
      "Requirement already satisfied: google-pasta>=0.1.1 in /opt/anaconda3/lib/python3.8/site-packages (from tensorflow) (0.2.0)\n",
      "Requirement already satisfied: astunparse>=1.6.0 in /opt/anaconda3/lib/python3.8/site-packages (from tensorflow) (1.6.3)\n",
      "Requirement already satisfied: typing-extensions>=3.6.6 in /opt/anaconda3/lib/python3.8/site-packages (from tensorflow) (3.7.4.3)\n",
      "Requirement already satisfied: six>=1.12.0 in /opt/anaconda3/lib/python3.8/site-packages (from tensorflow) (1.15.0)\n",
      "Requirement already satisfied: tensorflow-estimator<2.8,~=2.7.0rc0 in /opt/anaconda3/lib/python3.8/site-packages (from tensorflow) (2.7.0)\n",
      "Requirement already satisfied: termcolor>=1.1.0 in /opt/anaconda3/lib/python3.8/site-packages (from tensorflow) (1.1.0)\n",
      "Requirement already satisfied: tensorflow-io-gcs-filesystem>=0.21.0 in /opt/anaconda3/lib/python3.8/site-packages (from tensorflow) (0.22.0)\n",
      "Requirement already satisfied: opt-einsum>=2.3.2 in /opt/anaconda3/lib/python3.8/site-packages (from tensorflow) (3.3.0)\n",
      "Requirement already satisfied: google-auth-oauthlib<0.5,>=0.4.1 in /opt/anaconda3/lib/python3.8/site-packages (from tensorboard~=2.6->tensorflow) (0.4.6)\n",
      "Requirement already satisfied: google-auth<3,>=1.6.3 in /opt/anaconda3/lib/python3.8/site-packages (from tensorboard~=2.6->tensorflow) (2.3.3)\n",
      "Requirement already satisfied: requests<3,>=2.21.0 in /opt/anaconda3/lib/python3.8/site-packages (from tensorboard~=2.6->tensorflow) (2.25.1)\n",
      "Requirement already satisfied: tensorboard-data-server<0.7.0,>=0.6.0 in /opt/anaconda3/lib/python3.8/site-packages (from tensorboard~=2.6->tensorflow) (0.6.1)\n",
      "Requirement already satisfied: setuptools>=41.0.0 in /opt/anaconda3/lib/python3.8/site-packages (from tensorboard~=2.6->tensorflow) (52.0.0.post20210125)\n",
      "Requirement already satisfied: werkzeug>=0.11.15 in /opt/anaconda3/lib/python3.8/site-packages (from tensorboard~=2.6->tensorflow) (1.0.1)\n",
      "Requirement already satisfied: tensorboard-plugin-wit>=1.6.0 in /opt/anaconda3/lib/python3.8/site-packages (from tensorboard~=2.6->tensorflow) (1.8.0)\n",
      "Requirement already satisfied: markdown>=2.6.8 in /opt/anaconda3/lib/python3.8/site-packages (from tensorboard~=2.6->tensorflow) (3.3.4)\n",
      "Requirement already satisfied: cachetools<5.0,>=2.0.0 in /opt/anaconda3/lib/python3.8/site-packages (from google-auth<3,>=1.6.3->tensorboard~=2.6->tensorflow) (4.2.4)\n",
      "Requirement already satisfied: pyasn1-modules>=0.2.1 in /opt/anaconda3/lib/python3.8/site-packages (from google-auth<3,>=1.6.3->tensorboard~=2.6->tensorflow) (0.2.8)\n",
      "Requirement already satisfied: rsa<5,>=3.1.4 in /opt/anaconda3/lib/python3.8/site-packages (from google-auth<3,>=1.6.3->tensorboard~=2.6->tensorflow) (4.7.2)\n",
      "Requirement already satisfied: requests-oauthlib>=0.7.0 in /opt/anaconda3/lib/python3.8/site-packages (from google-auth-oauthlib<0.5,>=0.4.1->tensorboard~=2.6->tensorflow) (1.3.0)\n",
      "Requirement already satisfied: urllib3<1.27,>=1.21.1 in /opt/anaconda3/lib/python3.8/site-packages (from requests<3,>=2.21.0->tensorboard~=2.6->tensorflow) (1.26.4)\n",
      "Requirement already satisfied: idna<3,>=2.5 in /opt/anaconda3/lib/python3.8/site-packages (from requests<3,>=2.21.0->tensorboard~=2.6->tensorflow) (2.10)\n",
      "Requirement already satisfied: certifi>=2017.4.17 in /opt/anaconda3/lib/python3.8/site-packages (from requests<3,>=2.21.0->tensorboard~=2.6->tensorflow) (2021.10.8)\n",
      "Requirement already satisfied: chardet<5,>=3.0.2 in /opt/anaconda3/lib/python3.8/site-packages (from requests<3,>=2.21.0->tensorboard~=2.6->tensorflow) (4.0.0)\n",
      "Requirement already satisfied: pyasn1<0.5.0,>=0.4.6 in /opt/anaconda3/lib/python3.8/site-packages (from pyasn1-modules>=0.2.1->google-auth<3,>=1.6.3->tensorboard~=2.6->tensorflow) (0.4.8)\n",
      "Requirement already satisfied: oauthlib>=3.0.0 in /opt/anaconda3/lib/python3.8/site-packages (from requests-oauthlib>=0.7.0->google-auth-oauthlib<0.5,>=0.4.1->tensorboard~=2.6->tensorflow) (3.1.1)\n",
      "Requirement already satisfied: keras in /opt/anaconda3/lib/python3.8/site-packages (2.7.0)\n",
      "Requirement already satisfied: ensemble in /opt/anaconda3/lib/python3.8/site-packages (0.0.dev1)\n",
      "Requirement already satisfied: pyprind in /opt/anaconda3/lib/python3.8/site-packages (from ensemble) (2.11.3)\n",
      "Requirement already satisfied: wrapt in /opt/anaconda3/lib/python3.8/site-packages (from ensemble) (1.12.1)\n",
      "Requirement already satisfied: lxml in /opt/anaconda3/lib/python3.8/site-packages (from ensemble) (4.6.3)\n",
      "Requirement already satisfied: pysut in /opt/anaconda3/lib/python3.8/site-packages (from ensemble) (1.1)\n",
      "Requirement already satisfied: stats-arrays in /opt/anaconda3/lib/python3.8/site-packages (from ensemble) (0.6.5)\n",
      "Requirement already satisfied: pytest in /opt/anaconda3/lib/python3.8/site-packages (from ensemble) (6.2.5)\n",
      "Requirement already satisfied: numpy in /opt/anaconda3/lib/python3.8/site-packages (from ensemble) (1.20.1)\n",
      "Requirement already satisfied: pandas in /opt/anaconda3/lib/python3.8/site-packages (from ensemble) (1.2.4)\n",
      "Requirement already satisfied: docopt in /opt/anaconda3/lib/python3.8/site-packages (from ensemble) (0.6.2)\n",
      "Requirement already satisfied: python-dateutil>=2.7.3 in /opt/anaconda3/lib/python3.8/site-packages (from pandas->ensemble) (2.8.1)\n",
      "Requirement already satisfied: pytz>=2017.3 in /opt/anaconda3/lib/python3.8/site-packages (from pandas->ensemble) (2021.1)\n",
      "Requirement already satisfied: scipy in /opt/anaconda3/lib/python3.8/site-packages (from pysut->ensemble) (1.6.2)\n",
      "Requirement already satisfied: attrs>=19.2.0 in /opt/anaconda3/lib/python3.8/site-packages (from pytest->ensemble) (20.3.0)\n",
      "Requirement already satisfied: iniconfig in /opt/anaconda3/lib/python3.8/site-packages (from pytest->ensemble) (1.1.1)\n",
      "Requirement already satisfied: packaging in /opt/anaconda3/lib/python3.8/site-packages (from pytest->ensemble) (20.9)\n",
      "Requirement already satisfied: pluggy<2.0,>=0.12 in /opt/anaconda3/lib/python3.8/site-packages (from pytest->ensemble) (0.13.1)\n",
      "Requirement already satisfied: py>=1.8.2 in /opt/anaconda3/lib/python3.8/site-packages (from pytest->ensemble) (1.10.0)\n",
      "Requirement already satisfied: toml in /opt/anaconda3/lib/python3.8/site-packages (from pytest->ensemble) (0.10.2)\n"
     ]
    },
    {
     "name": "stdout",
     "output_type": "stream",
     "text": [
      "Requirement already satisfied: six>=1.5 in /opt/anaconda3/lib/python3.8/site-packages (from python-dateutil>=2.7.3->pandas->ensemble) (1.15.0)\n",
      "Requirement already satisfied: pyparsing>=2.0.2 in /opt/anaconda3/lib/python3.8/site-packages (from packaging->pytest->ensemble) (2.4.7)\n",
      "Requirement already satisfied: seaborn in /opt/anaconda3/lib/python3.8/site-packages (0.11.1)\n",
      "Requirement already satisfied: matplotlib>=2.2 in /opt/anaconda3/lib/python3.8/site-packages (from seaborn) (3.3.4)\n",
      "Requirement already satisfied: pandas>=0.23 in /opt/anaconda3/lib/python3.8/site-packages (from seaborn) (1.2.4)\n",
      "Requirement already satisfied: scipy>=1.0 in /opt/anaconda3/lib/python3.8/site-packages (from seaborn) (1.6.2)\n",
      "Requirement already satisfied: numpy>=1.15 in /opt/anaconda3/lib/python3.8/site-packages (from seaborn) (1.20.1)\n",
      "Requirement already satisfied: kiwisolver>=1.0.1 in /opt/anaconda3/lib/python3.8/site-packages (from matplotlib>=2.2->seaborn) (1.3.1)\n",
      "Requirement already satisfied: cycler>=0.10 in /opt/anaconda3/lib/python3.8/site-packages (from matplotlib>=2.2->seaborn) (0.10.0)\n",
      "Requirement already satisfied: pillow>=6.2.0 in /opt/anaconda3/lib/python3.8/site-packages (from matplotlib>=2.2->seaborn) (8.2.0)\n",
      "Requirement already satisfied: python-dateutil>=2.1 in /opt/anaconda3/lib/python3.8/site-packages (from matplotlib>=2.2->seaborn) (2.8.1)\n",
      "Requirement already satisfied: pyparsing!=2.0.4,!=2.1.2,!=2.1.6,>=2.0.3 in /opt/anaconda3/lib/python3.8/site-packages (from matplotlib>=2.2->seaborn) (2.4.7)\n",
      "Requirement already satisfied: pytz>=2017.3 in /opt/anaconda3/lib/python3.8/site-packages (from pandas>=0.23->seaborn) (2021.1)\n",
      "Requirement already satisfied: six in /opt/anaconda3/lib/python3.8/site-packages (from cycler>=0.10->matplotlib>=2.2->seaborn) (1.15.0)\n",
      "Requirement already satisfied: joblib in /opt/anaconda3/lib/python3.8/site-packages (1.0.1)\n",
      "Requirement already satisfied: six in /opt/anaconda3/lib/python3.8/site-packages (1.15.0)\n",
      "Requirement already satisfied: pydot in /opt/anaconda3/lib/python3.8/site-packages (1.4.1)\n",
      "Requirement already satisfied: pyparsing>=2.1.4 in /opt/anaconda3/lib/python3.8/site-packages (from pydot) (2.4.7)\n"
     ]
    }
   ],
   "source": [
    "!pip install os\n",
    "!pip install pandas\n",
    "!pip install matplotlib\n",
    "!pip install numpy\n",
    "!pip install imblearn\n",
    "!pip install tensorflow\n",
    "!pip install keras\n",
    "!pip install ensemble\n",
    "!pip install seaborn\n",
    "!pip install joblib\n",
    "!pip install six\n",
    "!pip install pydot"
   ]
  },
  {
   "cell_type": "code",
   "execution_count": 41,
   "id": "558f51a7",
   "metadata": {},
   "outputs": [],
   "source": [
    "# Import all libraries\n",
    "import os\n",
    "import pandas as pd\n",
    "import matplotlib.pyplot as plt\n",
    "from matplotlib import image\n",
    "import numpy as np\n",
    "from imblearn.over_sampling import SMOTE\n",
    "\n",
    "import tensorflow as tf\n",
    "import keras\n",
    "from keras.models import Sequential\n",
    "from keras.layers import Dense,Dropout,Conv2D,Conv1D,Flatten,MaxPool2D\n",
    "\n",
    "from sklearn.model_selection import train_test_split\n",
    "from sklearn.ensemble import RandomForestClassifier\n",
    "from sklearn.svm import SVC\n",
    "from sklearn.metrics import *\n",
    "from sklearn.linear_model import LogisticRegression\n",
    "from sklearn.ensemble import AdaBoostClassifier\n",
    "from sklearn.ensemble import BaggingClassifier\n",
    "\n",
    "import seaborn as sb\n",
    "import joblib\n",
    "\n",
    "from sklearn.tree import export_graphviz\n",
    "import six\n",
    "import pydot\n",
    "from sklearn import tree"
   ]
  },
  {
   "cell_type": "code",
   "execution_count": 4,
   "id": "e4af51e5",
   "metadata": {},
   "outputs": [
    {
     "name": "stdout",
     "output_type": "stream",
     "text": [
      "ar_data: (428, 31)\n",
      "mc_data: (9466, 40)\n",
      "pc_data: (5589, 38)\n",
      "cm_data: (498, 22)\n",
      "kc_data: (2631, 22)\n"
     ]
    }
   ],
   "source": [
    "# Load data from datasets\n",
    "# Make sure these datasets are present in \"datasets\" folder. \n",
    "ar_data = pd.DataFrame(pd.read_csv('datasets/ar.csv'))\n",
    "mc_data = pd.DataFrame(pd.read_csv('datasets/mc.csv'))\n",
    "pc_data = pd.DataFrame(pd.read_csv('datasets/pc.csv'))\n",
    "cm_data = pd.DataFrame(pd.read_csv('datasets/cm.csv'))\n",
    "kc_data = pd.DataFrame(pd.read_csv('datasets/kc.csv'))\n",
    "print('ar_data:', ar_data.shape)\n",
    "print('mc_data:', mc_data.shape)\n",
    "print('pc_data:', pc_data.shape)\n",
    "print('cm_data:', cm_data.shape)\n",
    "print('kc_data:', kc_data.shape)"
   ]
  },
  {
   "cell_type": "code",
   "execution_count": 5,
   "id": "c54f9926",
   "metadata": {},
   "outputs": [
    {
     "name": "stdout",
     "output_type": "stream",
     "text": [
      "<class 'pandas.core.frame.DataFrame'>\n",
      "RangeIndex: 428 entries, 0 to 427\n",
      "Data columns (total 31 columns):\n",
      " #   Column                            Non-Null Count  Dtype  \n",
      "---  ------                            --------------  -----  \n",
      " 0   id                                428 non-null    int64  \n",
      " 1   total_loc                         428 non-null    int64  \n",
      " 2   blank_loc                         428 non-null    int64  \n",
      " 3   comment_loc                       428 non-null    int64  \n",
      " 4   code_and_comment_loc              428 non-null    int64  \n",
      " 5   executable_loc                    428 non-null    int64  \n",
      " 6   unique_operands                   428 non-null    int64  \n",
      " 7   unique_operators                  428 non-null    int64  \n",
      " 8   total_operands                    428 non-null    int64  \n",
      " 9   total_operators                   428 non-null    int64  \n",
      " 10  halstead_vocabulary               428 non-null    int64  \n",
      " 11  halstead_length                   428 non-null    int64  \n",
      " 12  halstead_volume                   428 non-null    int64  \n",
      " 13  halstead_level                    428 non-null    float64\n",
      " 14  halstead_difficulty               428 non-null    float64\n",
      " 15  halstead_effort                   428 non-null    float64\n",
      " 16  halstead_error                    428 non-null    float64\n",
      " 17  halstead_time                     428 non-null    float64\n",
      " 18  branch_count                      428 non-null    float64\n",
      " 19  decision_count                    428 non-null    int64  \n",
      " 20  call_pairs                        428 non-null    int64  \n",
      " 21  condition_count                   428 non-null    int64  \n",
      " 22  multiple_condition_count          428 non-null    int64  \n",
      " 23  cyclomatic_complexity             428 non-null    int64  \n",
      " 24  cyclomatic_density                428 non-null    float64\n",
      " 25  decision_density                  428 non-null    float64\n",
      " 26  design_complexity                 428 non-null    float64\n",
      " 27  design_density                    428 non-null    float64\n",
      " 28  normalized_cyclomatic_complexity  428 non-null    float64\n",
      " 29  formal_parameters                 428 non-null    float64\n",
      " 30  defects                           428 non-null    bool   \n",
      "dtypes: bool(1), float64(12), int64(18)\n",
      "memory usage: 100.9 KB\n"
     ]
    }
   ],
   "source": [
    "# Display AR datasets info\n",
    "ar_data.info()"
   ]
  },
  {
   "cell_type": "code",
   "execution_count": 6,
   "id": "d37e66fd",
   "metadata": {},
   "outputs": [
    {
     "name": "stdout",
     "output_type": "stream",
     "text": [
      "<class 'pandas.core.frame.DataFrame'>\n",
      "RangeIndex: 9466 entries, 0 to 9465\n",
      "Data columns (total 40 columns):\n",
      " #   Column                           Non-Null Count  Dtype  \n",
      "---  ------                           --------------  -----  \n",
      " 0   id                               9466 non-null   int64  \n",
      " 1   LOC_BLANK                        9466 non-null   int64  \n",
      " 2   BRANCH_COUNT                     9466 non-null   int64  \n",
      " 3   CALL_PAIRS                       9466 non-null   int64  \n",
      " 4   LOC_CODE_AND_COMMENT             9466 non-null   int64  \n",
      " 5   LOC_COMMENTS                     9466 non-null   int64  \n",
      " 6   CONDITION_COUNT                  9466 non-null   int64  \n",
      " 7   CYCLOMATIC_COMPLEXITY            9466 non-null   int64  \n",
      " 8   CYCLOMATIC_DENSITY               9466 non-null   float64\n",
      " 9   DECISION_COUNT                   9466 non-null   int64  \n",
      " 10  DESIGN_COMPLEXITY                9466 non-null   int64  \n",
      " 11  DESIGN_DENSITY                   9466 non-null   int64  \n",
      " 12  EDGE_COUNT                       9466 non-null   int64  \n",
      " 13  ESSENTIAL_COMPLEXITY             9466 non-null   int64  \n",
      " 14  ESSENTIAL_DENSITY                9466 non-null   int64  \n",
      " 15  LOC_EXECUTABLE                   9466 non-null   int64  \n",
      " 16  PARAMETER_COUNT                  9466 non-null   int64  \n",
      " 17  GLOBAL_DATA_COMPLEXITY           9466 non-null   int64  \n",
      " 18  GLOBAL_DATA_DENSITY              9466 non-null   int64  \n",
      " 19  HALSTEAD_CONTENT                 9466 non-null   float64\n",
      " 20  HALSTEAD_DIFFICULTY              9466 non-null   float64\n",
      " 21  HALSTEAD_EFFORT                  9466 non-null   float64\n",
      " 22  HALSTEAD_ERROR_EST               9466 non-null   float64\n",
      " 23  HALSTEAD_LENGTH                  9466 non-null   int64  \n",
      " 24  HALSTEAD_LEVEL                   9466 non-null   float64\n",
      " 25  HALSTEAD_PROG_TIME               9466 non-null   float64\n",
      " 26  HALSTEAD_VOLUME                  9466 non-null   float64\n",
      " 27  MAINTENANCE_SEVERITY             9466 non-null   int64  \n",
      " 28  MODIFIED_CONDITION_COUNT         9466 non-null   int64  \n",
      " 29  MULTIPLE_CONDITION_COUNT         9466 non-null   int64  \n",
      " 30  NODE_COUNT                       9466 non-null   int64  \n",
      " 31  NORMALIZED_CYLOMATIC_COMPLEXITY  9466 non-null   float64\n",
      " 32  NUM_OPERANDS                     9466 non-null   int64  \n",
      " 33  NUM_OPERATORS                    9466 non-null   int64  \n",
      " 34  NUM_UNIQUE_OPERANDS              9466 non-null   int64  \n",
      " 35  NUM_UNIQUE_OPERATORS             9466 non-null   int64  \n",
      " 36  NUMBER_OF_LINES                  9466 non-null   int64  \n",
      " 37  PERCENT_COMMENTS                 9466 non-null   float64\n",
      " 38  LOC_TOTAL                        9466 non-null   int64  \n",
      " 39  defects                          9466 non-null   bool   \n",
      "dtypes: bool(1), float64(10), int64(29)\n",
      "memory usage: 2.8 MB\n"
     ]
    }
   ],
   "source": [
    "# Display MC datasets info\n",
    "mc_data.info()"
   ]
  },
  {
   "cell_type": "code",
   "execution_count": 7,
   "id": "b6ba038e",
   "metadata": {},
   "outputs": [
    {
     "name": "stdout",
     "output_type": "stream",
     "text": [
      "<class 'pandas.core.frame.DataFrame'>\n",
      "RangeIndex: 5589 entries, 0 to 5588\n",
      "Data columns (total 38 columns):\n",
      " #   Column                           Non-Null Count  Dtype  \n",
      "---  ------                           --------------  -----  \n",
      " 0   id                               5589 non-null   int64  \n",
      " 1   BRANCH_COUNT                     5589 non-null   int64  \n",
      " 2   CALL_PAIRS                       5589 non-null   int64  \n",
      " 3   LOC_CODE_AND_COMMENT             5589 non-null   int64  \n",
      " 4   LOC_COMMENTS                     5589 non-null   int64  \n",
      " 5   CONDITION_COUNT                  5589 non-null   int64  \n",
      " 6   CYCLOMATIC_COMPLEXITY            5589 non-null   int64  \n",
      " 7   CYCLOMATIC_DENSITY               5589 non-null   float64\n",
      " 8   DECISION_COUNT                   5589 non-null   int64  \n",
      " 9   DECISION_DENSITY                 5589 non-null   float64\n",
      " 10  DESIGN_COMPLEXITY                5589 non-null   int64  \n",
      " 11  DESIGN_DENSITY                   5589 non-null   float64\n",
      " 12  EDGE_COUNT                       5589 non-null   int64  \n",
      " 13  ESSENTIAL_COMPLEXITY             5589 non-null   int64  \n",
      " 14  ESSENTIAL_DENSITY                5589 non-null   int64  \n",
      " 15  LOC_EXECUTABLE                   5589 non-null   int64  \n",
      " 16  PARAMETER_COUNT                  5589 non-null   int64  \n",
      " 17  HALSTEAD_CONTENT                 5589 non-null   float64\n",
      " 18  HALSTEAD_DIFFICULTY              5589 non-null   float64\n",
      " 19  HALSTEAD_EFFORT                  5589 non-null   float64\n",
      " 20  HALSTEAD_ERROR_EST               5589 non-null   float64\n",
      " 21  HALSTEAD_LENGTH                  5589 non-null   int64  \n",
      " 22  HALSTEAD_LEVEL                   5589 non-null   float64\n",
      " 23  HALSTEAD_PROG_TIME               5589 non-null   float64\n",
      " 24  HALSTEAD_VOLUME                  5589 non-null   float64\n",
      " 25  MAINTENANCE_SEVERITY             5589 non-null   float64\n",
      " 26  MODIFIED_CONDITION_COUNT         5589 non-null   int64  \n",
      " 27  MULTIPLE_CONDITION_COUNT         5589 non-null   int64  \n",
      " 28  NODE_COUNT                       5589 non-null   int64  \n",
      " 29  NORMALIZED_CYLOMATIC_COMPLEXITY  5589 non-null   float64\n",
      " 30  NUM_OPERANDS                     5589 non-null   int64  \n",
      " 31  NUM_OPERATORS                    5589 non-null   int64  \n",
      " 32  NUM_UNIQUE_OPERANDS              5589 non-null   int64  \n",
      " 33  NUM_UNIQUE_OPERATORS             5589 non-null   int64  \n",
      " 34  NUMBER_OF_LINES                  5589 non-null   int64  \n",
      " 35  PERCENT_COMMENTS                 5589 non-null   float64\n",
      " 36  LOC_TOTAL                        5589 non-null   int64  \n",
      " 37  defects                          5589 non-null   bool   \n",
      "dtypes: bool(1), float64(13), int64(24)\n",
      "memory usage: 1.6 MB\n"
     ]
    }
   ],
   "source": [
    "# Move defects column to the end and display PC datasets info\n",
    "pc_data.insert(len(pc_data.columns)-1, 'defects', pc_data.pop('defects'))\n",
    "pc_data.info()"
   ]
  },
  {
   "cell_type": "code",
   "execution_count": 8,
   "id": "ea706853",
   "metadata": {},
   "outputs": [
    {
     "name": "stdout",
     "output_type": "stream",
     "text": [
      "<class 'pandas.core.frame.DataFrame'>\n",
      "RangeIndex: 498 entries, 0 to 497\n",
      "Data columns (total 22 columns):\n",
      " #   Column            Non-Null Count  Dtype  \n",
      "---  ------            --------------  -----  \n",
      " 0   loc               498 non-null    float64\n",
      " 1   vg                498 non-null    float64\n",
      " 2   evg               498 non-null    float64\n",
      " 3   ivg               498 non-null    float64\n",
      " 4   n                 498 non-null    float64\n",
      " 5   v                 498 non-null    float64\n",
      " 6   l                 498 non-null    float64\n",
      " 7   d                 498 non-null    float64\n",
      " 8   i                 498 non-null    float64\n",
      " 9   e                 498 non-null    float64\n",
      " 10  b                 498 non-null    float64\n",
      " 11  t                 498 non-null    float64\n",
      " 12  lOCode            498 non-null    int64  \n",
      " 13  lOComment         498 non-null    int64  \n",
      " 14  lOBlank           498 non-null    int64  \n",
      " 15  lOCodeAndComment  498 non-null    int64  \n",
      " 16  uniq_Op           498 non-null    float64\n",
      " 17  uniq_Opnd         498 non-null    float64\n",
      " 18  total_Op          498 non-null    float64\n",
      " 19  total_Opnd        498 non-null    float64\n",
      " 20  branchCount       498 non-null    float64\n",
      " 21  defects           498 non-null    bool   \n",
      "dtypes: bool(1), float64(17), int64(4)\n",
      "memory usage: 82.3 KB\n"
     ]
    }
   ],
   "source": [
    "# Display CM datasets info\n",
    "cm_data.info()"
   ]
  },
  {
   "cell_type": "code",
   "execution_count": 9,
   "id": "3896b3e8",
   "metadata": {},
   "outputs": [
    {
     "name": "stdout",
     "output_type": "stream",
     "text": [
      "<class 'pandas.core.frame.DataFrame'>\n",
      "RangeIndex: 2631 entries, 0 to 2630\n",
      "Data columns (total 22 columns):\n",
      " #   Column            Non-Null Count  Dtype  \n",
      "---  ------            --------------  -----  \n",
      " 0   loc               2631 non-null   float64\n",
      " 1   vg                2631 non-null   float64\n",
      " 2   evg               2631 non-null   float64\n",
      " 3   ivg               2631 non-null   float64\n",
      " 4   n                 2631 non-null   float64\n",
      " 5   v                 2631 non-null   float64\n",
      " 6   l                 2631 non-null   float64\n",
      " 7   d                 2631 non-null   float64\n",
      " 8   i                 2631 non-null   float64\n",
      " 9   e                 2631 non-null   float64\n",
      " 10  b                 2631 non-null   float64\n",
      " 11  t                 2631 non-null   float64\n",
      " 12  lOCode            2631 non-null   int64  \n",
      " 13  lOComment         2631 non-null   int64  \n",
      " 14  lOBlank           2631 non-null   int64  \n",
      " 15  lOCodeAndComment  2631 non-null   int64  \n",
      " 16  uniq_Op           2631 non-null   float64\n",
      " 17  uniq_Opnd         2631 non-null   float64\n",
      " 18  total_Op          2631 non-null   float64\n",
      " 19  total_Opnd        2631 non-null   float64\n",
      " 20  branchCount       2631 non-null   float64\n",
      " 21  defects           2631 non-null   bool   \n",
      "dtypes: bool(1), float64(17), int64(4)\n",
      "memory usage: 434.3 KB\n"
     ]
    }
   ],
   "source": [
    "# Display KC datasets info\n",
    "kc_data.info()"
   ]
  },
  {
   "cell_type": "code",
   "execution_count": 10,
   "id": "30a5bd75",
   "metadata": {},
   "outputs": [
    {
     "name": "stdout",
     "output_type": "stream",
     "text": [
      "is Any Value Null for ar_data:  False\n",
      "is Any Value Null for mc_data:  False\n",
      "is Any Value Null for pc_data:  False\n",
      "is Any Value Null for cm_data:  False\n",
      "is Any Value Null for kc_data:  False\n"
     ]
    }
   ],
   "source": [
    "# Check if any value is null from datasets above\n",
    "def checkIfValueIsNull(data):\n",
    "    isAnyValueNull = data.isnull().values.any()\n",
    "    return isAnyValueNull\n",
    "\n",
    "print('is Any Value Null for ar_data: ', checkIfValueIsNull(ar_data))\n",
    "print('is Any Value Null for mc_data: ', checkIfValueIsNull(mc_data))\n",
    "print('is Any Value Null for pc_data: ', checkIfValueIsNull(pc_data))\n",
    "print('is Any Value Null for cm_data: ', checkIfValueIsNull(cm_data))\n",
    "print('is Any Value Null for kc_data: ', checkIfValueIsNull(kc_data))\n"
   ]
  },
  {
   "cell_type": "code",
   "execution_count": 50,
   "id": "4b2113c8",
   "metadata": {},
   "outputs": [
    {
     "name": "stdout",
     "output_type": "stream",
     "text": [
      "True True\n"
     ]
    }
   ],
   "source": [
    "# Create images and trained folder if needed\n",
    "imagesPath = 'images/'\n",
    "trainedPath = 'trained/'\n",
    "isImagesPathExist = os.path.exists(imagesPath)\n",
    "isTrainedPathExist = os.path.exists(trainedPath)\n",
    "if not isImagesPathExist:\n",
    "    os.makedirs(imagesPath)\n",
    "if not isTrainedPathExist:\n",
    "    os.makedirs(trainedPath)"
   ]
  },
  {
   "cell_type": "code",
   "execution_count": 11,
   "id": "817bd95d",
   "metadata": {},
   "outputs": [],
   "source": [
    "# Pre-processing Data\n",
    "def pre_process_data(data):\n",
    "    if checkIfValueIsNull(data):\n",
    "        data.isnull().sum().sum()\n",
    "        print(\"Total number of Null values\", data)\n",
    "        data = data.dropna()\n",
    "    if data.shape[0] > 0:\n",
    "        # Check data correlation before pre-processing\n",
    "        data_corr = data.corr()\n",
    "        ax = sb.heatmap(data_corr, linewidths=0.1, cmap=\"YlGnBu\")\n",
    "        ax.set_title('Before Correlation')\n",
    "        plt.show()\n",
    "        \n",
    "        # Drop features which have less than 0.8 correlation\n",
    "        correlated_features = set()\n",
    "        correlation_matrix = data.corr()\n",
    "        for i in range(len(correlation_matrix.columns)):\n",
    "            for j in range(i):\n",
    "                if abs(correlation_matrix.iloc[i, j]) > 0.8:\n",
    "                    colname = correlation_matrix.columns[i]\n",
    "                    correlated_features.add(colname)\n",
    "\n",
    "        data.drop(labels=correlated_features, axis=1, inplace=True)\n",
    "        \n",
    "        # Check data correlation after pre-processing\n",
    "        data_corr = data.corr()\n",
    "        ax1 = sb.heatmap(data_corr, linewidths=0.1, cmap=\"YlGnBu\")\n",
    "        ax1.set_title('After Correlation')\n",
    "        plt.show()\n",
    "        \n",
    "        # Add all columns except \"defects\" column in data_X\n",
    "        # Add \"defects\" columns in data_y\n",
    "        data_X = data.drop(['defects'], axis=1)\n",
    "        data_y = data['defects']\n",
    "        data_y = data_y.astype('int')\n",
    "        \n",
    "        # Checking for Data Imbalance\n",
    "        ax2 = sb.countplot(data['defects'])\n",
    "        ax2.set_title('Data Imbalance')\n",
    "        plt.show()\n",
    "        \n",
    "        return data, data_X, data_y\n",
    "    else:\n",
    "        return False"
   ]
  },
  {
   "cell_type": "code",
   "execution_count": 12,
   "id": "3dd6c64c",
   "metadata": {},
   "outputs": [],
   "source": [
    "# Split data for training and testing\n",
    "# Training 90%, Testing 10%\n",
    "def split_data_train_test(data_X, data_y):\n",
    "    X_train1, X_test, y_train1, y_test = train_test_split(data_X, data_y, test_size = 0.1, random_state=1)\n",
    "\n",
    "    sm = SMOTE(k_neighbors=3)\n",
    "    X_train2, y_train2 = sm.fit_resample(X_train1, y_train1)\n",
    "\n",
    "    X_train, X_val, y_train, y_val = train_test_split(X_train2, y_train2, test_size = .1, random_state=1)\n",
    "    combined_training_data = X_train.copy()\n",
    "    combined_training_data['defects'] = y_train\n",
    "    \n",
    "    ax = sb.countplot(combined_training_data['defects'])\n",
    "    ax.set_title('Defects count')\n",
    "    plt.show()\n",
    "    return combined_training_data, X_train1, X_train2, X_train, X_test, X_val, y_train1, y_train2, y_train, y_test, y_val"
   ]
  },
  {
   "cell_type": "code",
   "execution_count": 13,
   "id": "fc3aa128",
   "metadata": {},
   "outputs": [],
   "source": [
    "# Plot the graph for Accuracy and Loss\n",
    "def plot_loss_accuracy_graph(history):\n",
    "    # summarize history for accuracy\n",
    "    plt.plot(history.history['accuracy'])\n",
    "    plt.plot(history.history['val_accuracy'])\n",
    "    plt.title('Model Accuracy')\n",
    "    plt.ylabel('Accuracy')\n",
    "    plt.xlabel('Epoch')\n",
    "    plt.legend(['Train', 'Test'], loc='upper left')\n",
    "    plt.show()\n",
    "    \n",
    "    # summarize history for loss\n",
    "    plt.plot(history.history['loss'])\n",
    "    plt.plot(history.history['val_loss'])\n",
    "    plt.title('Model Loss')\n",
    "    plt.ylabel('Loss')\n",
    "    plt.xlabel('Epoch')\n",
    "    plt.legend(['Train', 'Test'], loc='upper left')\n",
    "    plt.show()\n"
   ]
  },
  {
   "cell_type": "code",
   "execution_count": 14,
   "id": "8b01afda",
   "metadata": {},
   "outputs": [],
   "source": [
    "# Predict Test Data\n",
    "def predict_test_tata(model, X_val, y_val):\n",
    "    # Predict the output of test data from trained model\n",
    "    y_pred = model.predict(X_val)\n",
    "    y_pred = (y_pred > 0.5)\n",
    "    y_pred = pd.DataFrame(y_pred, columns=['defects'])\n",
    "\n",
    "    # Confusion Matrix\n",
    "    cm = confusion_matrix(y_val, y_pred)\n",
    "    ax = sb.heatmap(cm, annot=True, cmap='Blues')\n",
    "\n",
    "    ax.set_title('Seaborn Confusion Matrix with labels for '+str(model)+' \\n\\n');\n",
    "    ax.set_xlabel('\\nPredicted Values')\n",
    "    ax.set_ylabel('Actual Values ');\n",
    "\n",
    "    ## Ticket labels - List must be in alphabetical order\n",
    "    ax.xaxis.set_ticklabels(['False','True'])\n",
    "    ax.yaxis.set_ticklabels(['False','True'])\n",
    "\n",
    "    ## Display the visualization of the Confusion Matrix.\n",
    "    plt.show()\n",
    "    print(\"Accuracy of Model: \", accuracy_score(y_val, y_pred))\n",
    "    # Calculate the accuracy between actual output and predicted output\n",
    "    return accuracy_score(y_val, y_pred)"
   ]
  },
  {
   "cell_type": "code",
   "execution_count": 15,
   "id": "f57731e2",
   "metadata": {},
   "outputs": [],
   "source": [
    "dotfile = six.StringIO()\n",
    "\n",
    "def save_graph(model, filename):\n",
    "    for tree_in_forest in model.estimators_:\n",
    "        export_graphviz(tree_in_forest,out_file=filename+'.dot',\n",
    "        feature_names=data_X.columns,\n",
    "        filled=True,\n",
    "        rounded=True)\n",
    "        (graph,) = pydot.graph_from_dot_file(filename+'.dot')\n",
    "        graph.write_png('images/'+filename+'.png')"
   ]
  },
  {
   "cell_type": "code",
   "execution_count": 16,
   "id": "941cbf9c",
   "metadata": {},
   "outputs": [],
   "source": [
    "# Base Models\n",
    "#   Neural Network\n",
    "#   Random Forest\n",
    "#   Support Vector Machine\n",
    "#   Convolutional Nueral Network"
   ]
  },
  {
   "cell_type": "code",
   "execution_count": 17,
   "id": "51503fc6",
   "metadata": {},
   "outputs": [],
   "source": [
    "# model train with neural network\n",
    "# Defination: Neural networks reflect the behavior of the human brain, allowing computer programs to recognize patterns and solve common problems in the fields of AI, machine learning, and deep learning.\n",
    "def neural_network(filename, X_val, y_val):\n",
    "    global history\n",
    "    model = Sequential()\n",
    "    # First hidden layer\n",
    "    model.add(Dense(units = 16, activation = 'relu', input_dim = len(data_X.columns)))\n",
    "    # Second hidden layer\n",
    "    model.add(Dense(units = 8, activation = 'relu'))\n",
    "    # Third hidden layer\n",
    "    model.add(Dense(units = 4, activation = 'relu'))\n",
    "    # Output layer\n",
    "    model.add(Dense(units = 1, activation = 'sigmoid'))\n",
    "    \n",
    "    \n",
    "    # Compiling Artificial Neural Network\n",
    "    model.compile(optimizer = 'adam', loss = 'binary_crossentropy', metrics = ['accuracy'])\n",
    "\n",
    "    # Fitting the ANN to the Training set\n",
    "    history = model.fit(X_train, y_train, batch_size = 32, epochs = 100, validation_data=(X_val, y_val))\n",
    "    \n",
    "    # Save the trained model\n",
    "    # make sure the \"trained\" folder is present\n",
    "    model.save(\n",
    "        \"trained/\"+filename+\".h5\",\n",
    "        overwrite=True,\n",
    "        include_optimizer=True,\n",
    "        save_format=None,\n",
    "        signatures=None,\n",
    "        options=None,\n",
    "        save_traces=True,\n",
    "    )"
   ]
  },
  {
   "cell_type": "code",
   "execution_count": 18,
   "id": "45ef8082",
   "metadata": {},
   "outputs": [],
   "source": [
    "# Predict test result of neural network\n",
    "def test_nn_model(filename, X_val, y_val):\n",
    "    model = keras.models.load_model(\"trained/\"+filename+\".h5\") # Load saved model\n",
    "    print('Test Accuracy or Neural Network', predict_test_tata(model, X_val, y_val))"
   ]
  },
  {
   "cell_type": "code",
   "execution_count": 19,
   "id": "536a1606",
   "metadata": {},
   "outputs": [],
   "source": [
    "# model train with Random Forest\n",
    "# Defination: A random forest is a supervised machine learning algorithm that is constructed from decision tree algorithms\n",
    "def random_forest(filename):\n",
    "    model = RandomForestClassifier(n_estimators=10, max_depth=5,random_state=0)\n",
    "    model.fit(X_train, y_train)\n",
    "    \n",
    "    # Save the trained model\n",
    "    # make sure the \"trained\" folder is present\n",
    "    joblib.dump(model, \"trained/\"+filename+\".h5\")\n",
    "    \n",
    "    # Save the RR graph\n",
    "    # make sure the \"images\" folder is present\n",
    "    save_graph(model, filename)"
   ]
  },
  {
   "cell_type": "code",
   "execution_count": 20,
   "id": "f887c3e8",
   "metadata": {},
   "outputs": [],
   "source": [
    "# Display the result of random forest\n",
    "def display_tree(filename):\n",
    "    img = image.imread(\"images/\"+filename+\".png\")\n",
    "    plt.figure(figsize=(20, 20))\n",
    "    plt.imshow(img)\n",
    "    plt.show()"
   ]
  },
  {
   "cell_type": "code",
   "execution_count": 21,
   "id": "dcfd495f",
   "metadata": {},
   "outputs": [],
   "source": [
    "# Predict test result of random forest\n",
    "def test_rf_model(filename, X_val, y_val):\n",
    "    model = joblib.load(\"trained/\"+filename+\".h5\") # Load saved model\n",
    "    print('Test Accuracy of Random Forest', predict_test_tata(model, X_val, y_val))"
   ]
  },
  {
   "cell_type": "code",
   "execution_count": 22,
   "id": "f4786bc7",
   "metadata": {},
   "outputs": [],
   "source": [
    "# model train with Support Vector Machine\n",
    "# Defination: Support vector machines (SVMs) are a set of supervised learning methods used for classification, regression and outliers detection.\n",
    "def svm(filename):\n",
    "    model = SVC(gamma='auto')\n",
    "    model.fit(X_train, y_train)\n",
    "    joblib.dump(model, \"trained/\"+filename+\".h5\")"
   ]
  },
  {
   "cell_type": "code",
   "execution_count": 23,
   "id": "b1567316",
   "metadata": {},
   "outputs": [],
   "source": [
    "# Predict test result of svc\n",
    "def test_svm_model(filename, X_val, y_val):\n",
    "    model = joblib.load(\"trained/\"+filename+\".h5\") # Load saved model\n",
    "    print('Test Accuracy of SVC', predict_test_tata(model, X_val, y_val))"
   ]
  },
  {
   "cell_type": "code",
   "execution_count": 24,
   "id": "dfdc28b5",
   "metadata": {},
   "outputs": [],
   "source": [
    "# model train with Convolutional Neural Network\n",
    "# Defination: convolutional neural network (CNN/ConvNet) is a class of deep neural networks, most commonly applied to analyze visual imagery\n",
    "def cnn(filename, X_val, y_val):\n",
    "    global X_val1\n",
    "    global history\n",
    "    X_train_matrix = X_train.values\n",
    "    X_val_matrix = X_val.values\n",
    "    y_train_matrix = y_train.values\n",
    "    y_val_matrix = y_val.values\n",
    "    \n",
    "    y_train_series = y_train\n",
    "    y_val_series = y_val\n",
    "    \n",
    "    img_rows, img_cols = 1,len(data_X.columns)\n",
    "    \n",
    "    X_train1 = X_train_matrix.reshape(X_train_matrix.shape[0], img_rows, img_cols, 1)\n",
    "    X_val1 = X_val_matrix.reshape(X_val_matrix.shape[0], img_rows, img_cols, 1)\n",
    "    input_shape = (img_rows, img_cols, 1)\n",
    "\n",
    "    model = Sequential()\n",
    "    # Model layers\n",
    "    model.add(Conv2D(64, kernel_size=1, activation='relu',input_shape=input_shape))\n",
    "    model.add(Conv2D(32, kernel_size=1, activation='relu'))\n",
    "    model.add(Conv2D(16, kernel_size=1, activation='relu'))\n",
    "    model.add(Flatten())\n",
    "    model.add(Dense(8, activation='relu'))\n",
    "    model.add(Dense(1, activation='sigmoid'))\n",
    "    \n",
    "    # Compile model using accuracy to measure model performance\n",
    "    model.compile(optimizer='adam', loss='binary_crossentropy', metrics=['accuracy'])\n",
    "    \n",
    "    # train the model\n",
    "    history = model.fit(X_train1, y_train_matrix, batch_size=32, epochs=100, validation_data=(X_val1, y_val_matrix))\n",
    "    \n",
    "    # Save the trained model\n",
    "    # make sure the \"trained\" folder is present\n",
    "    model.save(\n",
    "        \"trained/\"+filename+\".h5\",\n",
    "        overwrite=True,\n",
    "        include_optimizer=True,\n",
    "        save_format=None,\n",
    "        signatures=None,\n",
    "        options=None,\n",
    "        save_traces=True,\n",
    "    )"
   ]
  },
  {
   "cell_type": "code",
   "execution_count": 25,
   "id": "c1af336f",
   "metadata": {},
   "outputs": [],
   "source": [
    "# Predict test result of convolutional neural network\n",
    "# Load saved model\n",
    "def test_cnn_model(filename, X_Val, y_val):\n",
    "    model = keras.models.load_model(\"trained/\"+filename+\".h5\") # Load saved model\n",
    "    print('Test Accuracy of CNN', predict_test_tata(model, X_Val, y_val))"
   ]
  },
  {
   "cell_type": "code",
   "execution_count": 26,
   "id": "61d0d2cd",
   "metadata": {},
   "outputs": [],
   "source": [
    "# Prepare trained models for ensemble learning\n",
    "def prepare_for_ensemble_learning(filetype, X_val, X_test, y_val, y_test):\n",
    "    svm_model = joblib.load(\"trained/\"+filetype+\"_svm.h5\")\n",
    "    rf_model = joblib.load(\"trained/\"+filetype+\"_rf.h5\")\n",
    "    nn_model = keras.models.load_model(\"trained/\"+filetype+\"_nn.h5\")\n",
    "    cnn_model = keras.models.load_model(\"trained/\"+filetype+\"_cnn.h5\")\n",
    "    \n",
    "    svm_val_result, svm_test_result = print_accuracy(filetype.upper()+' Dataset', svm_model, 'svm_model', X_val, X_test, y_val, y_test)\n",
    "    rf_val_result, rf_test_result = print_accuracy(filetype.upper()+' Dataset', rf_model, 'rf_model', X_val, X_test, y_val, y_test)\n",
    "    nn_val_result, nn_test_result = print_accuracy(filetype.upper()+' Dataset', nn_model, 'nn_model', X_val, X_test, y_val, y_test)\n",
    "    cnn_val_result, cnn_test_result = print_accuracy(filetype.upper()+' Dataset', cnn_model, 'cnn_model',  X_val, X_test, y_val, y_test)\n",
    "\n",
    "    new_val_set_X = pd.concat([\n",
    "        svm_val_result['val_predict'],\n",
    "        rf_val_result['val_predict'],\n",
    "        nn_val_result['val_predict'],\n",
    "        cnn_val_result['val_predict'],\n",
    "    ], axis=1)\n",
    "    new_val_set_X_matrix = new_val_set_X.values\n",
    "    new_val_set_y_matrix = svm_val_result['val_actual'].values\n",
    "\n",
    "    new_test_set_X = pd.concat([\n",
    "        svm_test_result['test_predict'],\n",
    "        rf_test_result['test_predict'],\n",
    "        nn_test_result['test_predict'],\n",
    "        cnn_test_result['test_predict']\n",
    "    ], axis=1)\n",
    "    new_test_set_X_matrix = new_test_set_X.values\n",
    "    new_test_set_y_matrix = svm_test_result['test_actual'].values\n",
    "    return new_val_set_X_matrix, new_val_set_y_matrix, new_test_set_X_matrix, new_test_set_y_matrix\n"
   ]
  },
  {
   "cell_type": "code",
   "execution_count": 27,
   "id": "3459499b",
   "metadata": {},
   "outputs": [],
   "source": [
    "# print accuracy of svm, random forest, nn, cnn\n",
    "def print_accuracy(filetype, model, modelType, X_val, X_test, y_val, y_test): \n",
    "    if (modelType == 'nn_model'):\n",
    "        y_pred_on_val = model.predict(X_val) > 0.5\n",
    "        y_pred_on_test = model.predict(X_test) > 0.5\n",
    "    elif (modelType == 'cnn_model'):\n",
    "        X_val_matrix = X_val.values\n",
    "        X_val1 = X_val_matrix.reshape(X_val_matrix.shape[0], 1, len(X_val.columns), 1)\n",
    "        y_pred_on_val = model.predict(X_val1) > 0.5\n",
    "        X_test_matrix = X_test.values\n",
    "        X_test1 = X_test_matrix.reshape(X_test_matrix.shape[0], 1, len(X_test.columns), 1)\n",
    "        y_pred_on_test = model.predict(X_test1) > 0.5\n",
    "    else:\n",
    "        y_pred_on_val = model.predict(X_val)\n",
    "        y_pred_on_test = model.predict(X_test)\n",
    "        \n",
    "    print('*****************', filetype, model, '*********************')   \n",
    "    print('*****Validation Set*****')\n",
    "    print('Accuracy:',balanced_accuracy_score(y_val,y_pred_on_val))\n",
    "    print('Avg Precision:', average_precision_score(y_val,y_pred_on_val))\n",
    "    print('Precision:', precision_score(y_val,y_pred_on_val))\n",
    "    print('Recall:', recall_score(y_val, y_pred_on_val))\n",
    "    print('************************')\n",
    "    print('*****Test Set*****')\n",
    "    print('Accuracy:',balanced_accuracy_score(y_test,y_pred_on_test))\n",
    "    print('Avg Precision:', average_precision_score(y_test,y_pred_on_test))\n",
    "    print('Precision:', precision_score(y_test,y_pred_on_test))\n",
    "    print('Recall:', recall_score(y_test, y_pred_on_test))\n",
    "    print('************************')\n",
    "    print('')\n",
    "    y_pred_on_val_df = pd.DataFrame(y_pred_on_val, columns=['defects1'])\n",
    "    y_pred_on_test_df = pd.DataFrame(y_pred_on_test, columns=['defects1'])\n",
    "    val_result = pd.concat([y_val.reset_index(drop=True), y_pred_on_val_df['defects1']],axis=1)\n",
    "    val_result = val_result.rename(columns={'defects':'val_actual', 'defects1':'val_predict'})\n",
    "    test_result = pd.concat([y_test.reset_index(drop=True),y_pred_on_test_df['defects1']],axis=1)\n",
    "    test_result = test_result.rename(columns={'defects':'test_actual','defects1':'test_predict'})\n",
    "    return val_result, test_result"
   ]
  },
  {
   "cell_type": "code",
   "execution_count": 28,
   "id": "bd016d88",
   "metadata": {},
   "outputs": [],
   "source": [
    "# Emsemble Model training\n",
    "#   Logistic Regression\n",
    "#   Ada Boosting\n",
    "#   Bagging"
   ]
  },
  {
   "cell_type": "code",
   "execution_count": 29,
   "id": "303eca53",
   "metadata": {},
   "outputs": [],
   "source": [
    "# Model train with Ensemble Logistic Regression\n",
    "# Defination: Logistic regression is a process of modeling the probability of a discrete outcome given an input variable\n",
    "def ensemble_logistic_regression_train(filetype):\n",
    "    model = LogisticRegression(random_state=0)\n",
    "    model.fit(new_val_set_X_matrix, new_val_set_y_matrix)\n",
    "    joblib.dump(model, \"trained/\"+filetype+\"_logistic_regression.h5\")"
   ]
  },
  {
   "cell_type": "code",
   "execution_count": 30,
   "id": "9872f9a6",
   "metadata": {},
   "outputs": [],
   "source": [
    "# Model train with Ensemble Ada Boosting\n",
    "# Defination: Boosting is an ensemble learning method that combines a set of weak learners into a strong learner to minimize training errors.\n",
    "def ensemble_ada_boost_train(filetype):\n",
    "    model = AdaBoostClassifier(n_estimators=100, random_state=0, base_estimator=SVC(probability=True, kernel='linear'))\n",
    "    model.fit(new_val_set_X_matrix, new_val_set_y_matrix)\n",
    "    joblib.dump(model, \"trained/\"+filetype+\"_ada_boost.h5\")"
   ]
  },
  {
   "cell_type": "code",
   "execution_count": 31,
   "id": "e88d8f5a",
   "metadata": {},
   "outputs": [],
   "source": [
    "# Model train with Ensemble Bagging\n",
    "# Defination: Bagging, also known as Bootstrap aggregating, is an ensemble learning technique that helps to improve the performance and accuracy of machine learning algorithms. It is used to deal with bias-variance trade-offs and reduces the variance of a prediction model\n",
    "def ensemble_bagging_train(filetype):\n",
    "    model = BaggingClassifier(base_estimator=SVC(), n_estimators=10, random_state=0)\n",
    "    model.fit(new_val_set_X_matrix, new_val_set_y_matrix)\n",
    "    joblib.dump(model, \"trained/\"+filetype+\"_bagging.h5\")"
   ]
  },
  {
   "cell_type": "code",
   "execution_count": 32,
   "id": "2e07839c",
   "metadata": {},
   "outputs": [],
   "source": [
    "# Test Ensemble Logistic Regression\n",
    "def ensemble_logistic_regresstion_test(filetype, new_test_set_X_matrix, y_test):\n",
    "    lr = joblib.load(\"trained/\"+filetype+\"_logistic_regression.h5\")\n",
    "    prediction = lr.predict(new_test_set_X_matrix)\n",
    "    print(filetype.upper()+' Logistic Regression Accuracy:',accuracy_score(y_test.values, prediction))"
   ]
  },
  {
   "cell_type": "code",
   "execution_count": 33,
   "id": "60d24638",
   "metadata": {},
   "outputs": [],
   "source": [
    "# Test Ensemble Ada Boosting\n",
    "def ensemble_ada_boost_test(filetype, new_test_set_X_matrix, y_test):\n",
    "    lr = joblib.load(\"trained/\"+filetype+\"_ada_boost.h5\")\n",
    "    prediction = lr.predict(new_test_set_X_matrix)\n",
    "    print(filetype.upper()+' Ada Boost Accuracy:',accuracy_score(y_test.values, prediction))"
   ]
  },
  {
   "cell_type": "code",
   "execution_count": 34,
   "id": "a0708f35",
   "metadata": {},
   "outputs": [],
   "source": [
    "# Test Ensemble Bagging\n",
    "def ensemble_bagging_test(filetype, new_test_set_X_matrix, y_test):\n",
    "    lr = joblib.load(\"trained/\"+filetype+\"_bagging.h5\")\n",
    "    prediction = lr.predict(new_test_set_X_matrix)\n",
    "    print(filetype.upper()+' Bagging Accuracy:',accuracy_score(y_test.values, prediction))"
   ]
  },
  {
   "cell_type": "code",
   "execution_count": 35,
   "id": "ab09f404",
   "metadata": {},
   "outputs": [
    {
     "data": {
      "image/png": "[encoded data removed]",
      "text/plain": [
       "<Figure size 432x288 with 2 Axes>"
      ]
     },
     "metadata": {
      "needs_background": "light"
     },
     "output_type": "display_data"
    },
    {
     "data": {
      "image/png": "[encoded data removed]",
      "text/plain": [
       "<Figure size 432x288 with 2 Axes>"
      ]
     },
     "metadata": {
      "needs_background": "light"
     },
     "output_type": "display_data"
    },
    {
     "name": "stderr",
     "output_type": "stream",
     "text": [
      "/opt/anaconda3/lib/python3.8/site-packages/seaborn/_decorators.py:36: FutureWarning: Pass the following variable as a keyword arg: x. From version 0.12, the only valid positional argument will be `data`, and passing other arguments without an explicit keyword will result in an error or misinterpretation.\n",
      "  warnings.warn(\n"
     ]
    },
    {
     "data": {
      "image/png": "[encoded data removed]",
      "text/plain": [
       "<Figure size 432x288 with 1 Axes>"
      ]
     },
     "metadata": {
      "needs_background": "light"
     },
     "output_type": "display_data"
    },
    {
     "data": {
      "image/png": "[encoded data removed]",
      "text/plain": [
       "<Figure size 432x288 with 2 Axes>"
      ]
     },
     "metadata": {
      "needs_background": "light"
     },
     "output_type": "display_data"
    },
    {
     "data": {
      "image/png": "[encoded data removed]",
      "text/plain": [
       "<Figure size 432x288 with 2 Axes>"
      ]
     },
     "metadata": {
      "needs_background": "light"
     },
     "output_type": "display_data"
    },
    {
     "name": "stderr",
     "output_type": "stream",
     "text": [
      "/opt/anaconda3/lib/python3.8/site-packages/seaborn/_decorators.py:36: FutureWarning: Pass the following variable as a keyword arg: x. From version 0.12, the only valid positional argument will be `data`, and passing other arguments without an explicit keyword will result in an error or misinterpretation.\n",
      "  warnings.warn(\n"
     ]
    },
    {
     "data": {
      "image/png": "[encoded data removed]",
      "text/plain": [
       "<Figure size 432x288 with 1 Axes>"
      ]
     },
     "metadata": {
      "needs_background": "light"
     },
     "output_type": "display_data"
    },
    {
     "name": "stderr",
     "output_type": "stream",
     "text": [
      "/opt/anaconda3/lib/python3.8/site-packages/seaborn/_decorators.py:36: FutureWarning: Pass the following variable as a keyword arg: x. From version 0.12, the only valid positional argument will be `data`, and passing other arguments without an explicit keyword will result in an error or misinterpretation.\n",
      "  warnings.warn(\n"
     ]
    },
    {
     "data": {
      "image/png": "[encoded data removed]",
      "text/plain": [
       "<Figure size 432x288 with 1 Axes>"
      ]
     },
     "metadata": {
      "needs_background": "light"
     },
     "output_type": "display_data"
    }
   ],
   "source": [
    "# Datasets KC\n",
    "# Step 1: Preprocess and Split for Train/Test. \n",
    "# Display Before and After Correlation Graph\n",
    "# Display data imbalance graph\n",
    "# Display data balanced graph after preprocessing\n",
    "if pre_process_data(kc_data):\n",
    "    data, data_X, data_y = pre_process_data(kc_data)\n",
    "    combined_training_data, X_train1, X_train2, X_train, kc_X_test, kc_X_val, y_train1, y_train2, y_train, kc_y_test, kc_y_val = split_data_train_test(data_X, data_y)\n",
    "else:\n",
    "    print('No Data available for training')"
   ]
  },
  {
   "cell_type": "code",
   "execution_count": 36,
   "id": "9d29e885",
   "metadata": {},
   "outputs": [
    {
     "name": "stdout",
     "output_type": "stream",
     "text": [
      "Epoch 1/100\n",
      "111/111 [==============================] - 1s 2ms/step - loss: 1.6554 - accuracy: 0.4924 - val_loss: 0.7800 - val_accuracy: 0.5990\n",
      "Epoch 2/100\n",
      "111/111 [==============================] - 0s 963us/step - loss: 0.6667 - accuracy: 0.6892 - val_loss: 0.6479 - val_accuracy: 0.6954\n",
      "Epoch 3/100\n",
      "111/111 [==============================] - 0s 949us/step - loss: 0.6215 - accuracy: 0.7070 - val_loss: 0.6019 - val_accuracy: 0.7183\n",
      "Epoch 4/100\n",
      "111/111 [==============================] - 0s 967us/step - loss: 0.5913 - accuracy: 0.7169 - val_loss: 0.5766 - val_accuracy: 0.7437\n",
      "Epoch 5/100\n",
      "111/111 [==============================] - 0s 967us/step - loss: 0.5813 - accuracy: 0.7169 - val_loss: 0.5669 - val_accuracy: 0.7487\n",
      "Epoch 6/100\n",
      "111/111 [==============================] - 0s 952us/step - loss: 0.5751 - accuracy: 0.7214 - val_loss: 0.5583 - val_accuracy: 0.7589\n",
      "Epoch 7/100\n",
      "111/111 [==============================] - 0s 965us/step - loss: 0.5685 - accuracy: 0.7250 - val_loss: 0.5675 - val_accuracy: 0.7005\n",
      "Epoch 8/100\n",
      "111/111 [==============================] - 0s 954us/step - loss: 0.5631 - accuracy: 0.7239 - val_loss: 0.5499 - val_accuracy: 0.7487\n",
      "Epoch 9/100\n",
      "111/111 [==============================] - 0s 954us/step - loss: 0.5566 - accuracy: 0.7270 - val_loss: 0.5414 - val_accuracy: 0.7538\n",
      "Epoch 10/100\n",
      "111/111 [==============================] - 0s 964us/step - loss: 0.5522 - accuracy: 0.7310 - val_loss: 0.5350 - val_accuracy: 0.7665\n",
      "Epoch 11/100\n",
      "111/111 [==============================] - 0s 953us/step - loss: 0.5488 - accuracy: 0.7279 - val_loss: 0.5310 - val_accuracy: 0.7665\n",
      "Epoch 12/100\n",
      "111/111 [==============================] - 0s 952us/step - loss: 0.5445 - accuracy: 0.7343 - val_loss: 0.5263 - val_accuracy: 0.7614\n",
      "Epoch 13/100\n",
      "111/111 [==============================] - 0s 965us/step - loss: 0.5406 - accuracy: 0.7327 - val_loss: 0.5242 - val_accuracy: 0.7563\n",
      "Epoch 14/100\n",
      "111/111 [==============================] - 0s 936us/step - loss: 0.5386 - accuracy: 0.7315 - val_loss: 0.5193 - val_accuracy: 0.7563\n",
      "Epoch 15/100\n",
      "111/111 [==============================] - 0s 966us/step - loss: 0.5341 - accuracy: 0.7341 - val_loss: 0.5189 - val_accuracy: 0.7640\n",
      "Epoch 16/100\n",
      "111/111 [==============================] - 0s 936us/step - loss: 0.5337 - accuracy: 0.7341 - val_loss: 0.5175 - val_accuracy: 0.7640\n",
      "Epoch 17/100\n",
      "111/111 [==============================] - 0s 924us/step - loss: 0.5327 - accuracy: 0.7324 - val_loss: 0.5139 - val_accuracy: 0.7640\n",
      "Epoch 18/100\n",
      "111/111 [==============================] - 0s 951us/step - loss: 0.5297 - accuracy: 0.7327 - val_loss: 0.5122 - val_accuracy: 0.7640\n",
      "Epoch 19/100\n",
      "111/111 [==============================] - 0s 953us/step - loss: 0.5273 - accuracy: 0.7358 - val_loss: 0.5103 - val_accuracy: 0.7614\n",
      "Epoch 20/100\n",
      "111/111 [==============================] - 0s 961us/step - loss: 0.5253 - accuracy: 0.7332 - val_loss: 0.5087 - val_accuracy: 0.7640\n",
      "Epoch 21/100\n",
      "111/111 [==============================] - 0s 936us/step - loss: 0.5249 - accuracy: 0.7349 - val_loss: 0.5068 - val_accuracy: 0.7614\n",
      "Epoch 22/100\n",
      "111/111 [==============================] - 0s 943us/step - loss: 0.5241 - accuracy: 0.7343 - val_loss: 0.5069 - val_accuracy: 0.7513\n",
      "Epoch 23/100\n",
      "111/111 [==============================] - 0s 964us/step - loss: 0.5234 - accuracy: 0.7380 - val_loss: 0.5054 - val_accuracy: 0.7690\n",
      "Epoch 24/100\n",
      "111/111 [==============================] - 0s 939us/step - loss: 0.5210 - accuracy: 0.7389 - val_loss: 0.5117 - val_accuracy: 0.7487\n",
      "Epoch 25/100\n",
      "111/111 [==============================] - 0s 935us/step - loss: 0.5227 - accuracy: 0.7327 - val_loss: 0.5046 - val_accuracy: 0.7589\n",
      "Epoch 26/100\n",
      "111/111 [==============================] - 0s 949us/step - loss: 0.5194 - accuracy: 0.7375 - val_loss: 0.5058 - val_accuracy: 0.7614\n",
      "Epoch 27/100\n",
      "111/111 [==============================] - 0s 934us/step - loss: 0.5208 - accuracy: 0.7352 - val_loss: 0.4999 - val_accuracy: 0.7640\n",
      "Epoch 28/100\n",
      "111/111 [==============================] - 0s 935us/step - loss: 0.5183 - accuracy: 0.7343 - val_loss: 0.4986 - val_accuracy: 0.7614\n",
      "Epoch 29/100\n",
      "111/111 [==============================] - 0s 968us/step - loss: 0.5169 - accuracy: 0.7358 - val_loss: 0.4976 - val_accuracy: 0.7589\n",
      "Epoch 30/100\n",
      "111/111 [==============================] - 0s 929us/step - loss: 0.5167 - accuracy: 0.7346 - val_loss: 0.4977 - val_accuracy: 0.7665\n",
      "Epoch 31/100\n",
      "111/111 [==============================] - 0s 927us/step - loss: 0.5159 - accuracy: 0.7437 - val_loss: 0.4984 - val_accuracy: 0.7563\n",
      "Epoch 32/100\n",
      "111/111 [==============================] - 0s 966us/step - loss: 0.5165 - accuracy: 0.7366 - val_loss: 0.5002 - val_accuracy: 0.7665\n",
      "Epoch 33/100\n",
      "111/111 [==============================] - 0s 972us/step - loss: 0.5163 - accuracy: 0.7391 - val_loss: 0.5019 - val_accuracy: 0.7411\n",
      "Epoch 34/100\n",
      "111/111 [==============================] - 0s 964us/step - loss: 0.5158 - accuracy: 0.7341 - val_loss: 0.4954 - val_accuracy: 0.7513\n",
      "Epoch 35/100\n",
      "111/111 [==============================] - 0s 995us/step - loss: 0.5159 - accuracy: 0.7425 - val_loss: 0.5092 - val_accuracy: 0.7690\n",
      "Epoch 36/100\n",
      "111/111 [==============================] - 0s 923us/step - loss: 0.5204 - accuracy: 0.7355 - val_loss: 0.4968 - val_accuracy: 0.7538\n",
      "Epoch 37/100\n",
      "111/111 [==============================] - 0s 949us/step - loss: 0.5132 - accuracy: 0.7403 - val_loss: 0.4942 - val_accuracy: 0.7589\n",
      "Epoch 38/100\n",
      "111/111 [==============================] - 0s 967us/step - loss: 0.5127 - accuracy: 0.7425 - val_loss: 0.4956 - val_accuracy: 0.7690\n",
      "Epoch 39/100\n",
      "111/111 [==============================] - 0s 971us/step - loss: 0.5128 - accuracy: 0.7403 - val_loss: 0.4944 - val_accuracy: 0.7589\n",
      "Epoch 40/100\n",
      "111/111 [==============================] - 0s 980us/step - loss: 0.5109 - accuracy: 0.7400 - val_loss: 0.4942 - val_accuracy: 0.7665\n",
      "Epoch 41/100\n",
      "111/111 [==============================] - 0s 941us/step - loss: 0.5101 - accuracy: 0.7434 - val_loss: 0.4941 - val_accuracy: 0.7614\n",
      "Epoch 42/100\n",
      "111/111 [==============================] - 0s 947us/step - loss: 0.5127 - accuracy: 0.7411 - val_loss: 0.4952 - val_accuracy: 0.7563\n",
      "Epoch 43/100\n",
      "111/111 [==============================] - 0s 961us/step - loss: 0.5112 - accuracy: 0.7437 - val_loss: 0.4959 - val_accuracy: 0.7640\n",
      "Epoch 44/100\n",
      "111/111 [==============================] - 0s 956us/step - loss: 0.5091 - accuracy: 0.7459 - val_loss: 0.4956 - val_accuracy: 0.7741\n",
      "Epoch 45/100\n",
      "111/111 [==============================] - 0s 997us/step - loss: 0.5107 - accuracy: 0.7437 - val_loss: 0.4938 - val_accuracy: 0.7741\n",
      "Epoch 46/100\n",
      "111/111 [==============================] - 0s 939us/step - loss: 0.5103 - accuracy: 0.7425 - val_loss: 0.4946 - val_accuracy: 0.7487\n",
      "Epoch 47/100\n",
      "111/111 [==============================] - 0s 954us/step - loss: 0.5094 - accuracy: 0.7459 - val_loss: 0.4934 - val_accuracy: 0.7589\n",
      "Epoch 48/100\n",
      "111/111 [==============================] - 0s 963us/step - loss: 0.5092 - accuracy: 0.7445 - val_loss: 0.4951 - val_accuracy: 0.7513\n",
      "Epoch 49/100\n",
      "111/111 [==============================] - 0s 954us/step - loss: 0.5117 - accuracy: 0.7411 - val_loss: 0.5000 - val_accuracy: 0.7766\n",
      "Epoch 50/100\n",
      "111/111 [==============================] - 0s 986us/step - loss: 0.5103 - accuracy: 0.7437 - val_loss: 0.5019 - val_accuracy: 0.7487\n",
      "Epoch 51/100\n",
      "111/111 [==============================] - 0s 955us/step - loss: 0.5097 - accuracy: 0.7448 - val_loss: 0.5050 - val_accuracy: 0.7411\n",
      "Epoch 52/100\n",
      "111/111 [==============================] - 0s 934us/step - loss: 0.5117 - accuracy: 0.7397 - val_loss: 0.4973 - val_accuracy: 0.7462\n",
      "Epoch 53/100\n",
      "111/111 [==============================] - 0s 1ms/step - loss: 0.5080 - accuracy: 0.7434 - val_loss: 0.4967 - val_accuracy: 0.7487\n",
      "Epoch 54/100\n",
      "111/111 [==============================] - 0s 937us/step - loss: 0.5073 - accuracy: 0.7493 - val_loss: 0.4967 - val_accuracy: 0.7614\n",
      "Epoch 55/100\n",
      "111/111 [==============================] - 0s 944us/step - loss: 0.5087 - accuracy: 0.7442 - val_loss: 0.4939 - val_accuracy: 0.7665\n",
      "Epoch 56/100\n",
      "111/111 [==============================] - 0s 958us/step - loss: 0.5073 - accuracy: 0.7442 - val_loss: 0.4946 - val_accuracy: 0.7589\n",
      "Epoch 57/100\n",
      "111/111 [==============================] - 0s 965us/step - loss: 0.5067 - accuracy: 0.7417 - val_loss: 0.4939 - val_accuracy: 0.7665\n",
      "Epoch 58/100\n",
      "111/111 [==============================] - 0s 1ms/step - loss: 0.5091 - accuracy: 0.7442 - val_loss: 0.5015 - val_accuracy: 0.7513\n",
      "Epoch 59/100\n",
      "111/111 [==============================] - 0s 965us/step - loss: 0.5092 - accuracy: 0.7420 - val_loss: 0.4948 - val_accuracy: 0.7614\n",
      "Epoch 60/100\n",
      "111/111 [==============================] - 0s 935us/step - loss: 0.5074 - accuracy: 0.7468 - val_loss: 0.5065 - val_accuracy: 0.7310\n",
      "Epoch 61/100\n",
      "111/111 [==============================] - 0s 953us/step - loss: 0.5070 - accuracy: 0.7442 - val_loss: 0.4916 - val_accuracy: 0.7589\n",
      "Epoch 62/100\n",
      "111/111 [==============================] - 0s 969us/step - loss: 0.5072 - accuracy: 0.7510 - val_loss: 0.4951 - val_accuracy: 0.7716\n",
      "Epoch 63/100\n",
      "111/111 [==============================] - 0s 978us/step - loss: 0.5083 - accuracy: 0.7442 - val_loss: 0.4912 - val_accuracy: 0.7589\n",
      "Epoch 64/100\n",
      "111/111 [==============================] - 0s 977us/step - loss: 0.5056 - accuracy: 0.7462 - val_loss: 0.4910 - val_accuracy: 0.7614\n",
      "Epoch 65/100\n",
      "111/111 [==============================] - 0s 934us/step - loss: 0.5061 - accuracy: 0.7451 - val_loss: 0.4947 - val_accuracy: 0.7589\n",
      "Epoch 66/100\n",
      "111/111 [==============================] - 0s 962us/step - loss: 0.5056 - accuracy: 0.7468 - val_loss: 0.4953 - val_accuracy: 0.7614\n",
      "Epoch 67/100\n",
      "111/111 [==============================] - 0s 945us/step - loss: 0.5089 - accuracy: 0.7352 - val_loss: 0.4896 - val_accuracy: 0.7614\n",
      "Epoch 68/100\n",
      "111/111 [==============================] - 0s 971us/step - loss: 0.5066 - accuracy: 0.7453 - val_loss: 0.4905 - val_accuracy: 0.7589\n",
      "Epoch 69/100\n",
      "111/111 [==============================] - 0s 977us/step - loss: 0.5065 - accuracy: 0.7493 - val_loss: 0.4898 - val_accuracy: 0.7640\n",
      "Epoch 70/100\n",
      "111/111 [==============================] - 0s 960us/step - loss: 0.5063 - accuracy: 0.7442 - val_loss: 0.4907 - val_accuracy: 0.7538\n",
      "Epoch 71/100\n",
      "111/111 [==============================] - 0s 979us/step - loss: 0.5055 - accuracy: 0.7431 - val_loss: 0.4874 - val_accuracy: 0.7589\n",
      "Epoch 72/100\n",
      "111/111 [==============================] - 0s 961us/step - loss: 0.5042 - accuracy: 0.7482 - val_loss: 0.4919 - val_accuracy: 0.7538\n",
      "Epoch 73/100\n",
      "111/111 [==============================] - 0s 960us/step - loss: 0.5065 - accuracy: 0.7445 - val_loss: 0.4913 - val_accuracy: 0.7462\n",
      "Epoch 74/100\n",
      "111/111 [==============================] - 0s 951us/step - loss: 0.5057 - accuracy: 0.7459 - val_loss: 0.4907 - val_accuracy: 0.7614\n",
      "Epoch 75/100\n",
      "111/111 [==============================] - 0s 961us/step - loss: 0.5076 - accuracy: 0.7442 - val_loss: 0.4898 - val_accuracy: 0.7589\n",
      "Epoch 76/100\n",
      "111/111 [==============================] - 0s 947us/step - loss: 0.5059 - accuracy: 0.7439 - val_loss: 0.4913 - val_accuracy: 0.7563\n",
      "Epoch 77/100\n",
      "111/111 [==============================] - 0s 970us/step - loss: 0.5060 - accuracy: 0.7451 - val_loss: 0.4891 - val_accuracy: 0.7563\n",
      "Epoch 78/100\n",
      "111/111 [==============================] - 0s 974us/step - loss: 0.5053 - accuracy: 0.7428 - val_loss: 0.4871 - val_accuracy: 0.7563\n",
      "Epoch 79/100\n",
      "111/111 [==============================] - 0s 967us/step - loss: 0.5065 - accuracy: 0.7487 - val_loss: 0.4961 - val_accuracy: 0.7614\n",
      "Epoch 80/100\n",
      "111/111 [==============================] - 0s 942us/step - loss: 0.5034 - accuracy: 0.7482 - val_loss: 0.4881 - val_accuracy: 0.7538\n",
      "Epoch 81/100\n",
      "111/111 [==============================] - 0s 938us/step - loss: 0.5052 - accuracy: 0.7456 - val_loss: 0.4895 - val_accuracy: 0.7487\n",
      "Epoch 82/100\n",
      "111/111 [==============================] - 0s 972us/step - loss: 0.5050 - accuracy: 0.7445 - val_loss: 0.4897 - val_accuracy: 0.7665\n",
      "Epoch 83/100\n",
      "111/111 [==============================] - 0s 976us/step - loss: 0.5055 - accuracy: 0.7428 - val_loss: 0.4893 - val_accuracy: 0.7589\n",
      "Epoch 84/100\n",
      "111/111 [==============================] - 0s 962us/step - loss: 0.5050 - accuracy: 0.7456 - val_loss: 0.4857 - val_accuracy: 0.7538\n",
      "Epoch 85/100\n",
      "111/111 [==============================] - 0s 970us/step - loss: 0.5042 - accuracy: 0.7473 - val_loss: 0.4862 - val_accuracy: 0.7614\n",
      "Epoch 86/100\n",
      "111/111 [==============================] - 0s 978us/step - loss: 0.5049 - accuracy: 0.7442 - val_loss: 0.4842 - val_accuracy: 0.7640\n",
      "Epoch 87/100\n",
      "111/111 [==============================] - 0s 993us/step - loss: 0.5045 - accuracy: 0.7462 - val_loss: 0.4845 - val_accuracy: 0.7563\n",
      "Epoch 88/100\n",
      "111/111 [==============================] - 0s 923us/step - loss: 0.5049 - accuracy: 0.7468 - val_loss: 0.4861 - val_accuracy: 0.7665\n",
      "Epoch 89/100\n",
      "111/111 [==============================] - 0s 930us/step - loss: 0.5037 - accuracy: 0.7451 - val_loss: 0.4846 - val_accuracy: 0.7538\n",
      "Epoch 90/100\n",
      "111/111 [==============================] - 0s 970us/step - loss: 0.5044 - accuracy: 0.7482 - val_loss: 0.4848 - val_accuracy: 0.7538\n",
      "Epoch 91/100\n",
      "111/111 [==============================] - 0s 963us/step - loss: 0.5040 - accuracy: 0.7484 - val_loss: 0.4875 - val_accuracy: 0.7487\n",
      "Epoch 92/100\n",
      "111/111 [==============================] - 0s 971us/step - loss: 0.5058 - accuracy: 0.7459 - val_loss: 0.4866 - val_accuracy: 0.7589\n",
      "Epoch 93/100\n",
      "111/111 [==============================] - 0s 970us/step - loss: 0.5065 - accuracy: 0.7420 - val_loss: 0.4879 - val_accuracy: 0.7614\n",
      "Epoch 94/100\n",
      "111/111 [==============================] - 0s 934us/step - loss: 0.5057 - accuracy: 0.7465 - val_loss: 0.4877 - val_accuracy: 0.7716\n",
      "Epoch 95/100\n",
      "111/111 [==============================] - 0s 922us/step - loss: 0.5055 - accuracy: 0.7448 - val_loss: 0.4845 - val_accuracy: 0.7716\n",
      "Epoch 96/100\n",
      "111/111 [==============================] - 0s 973us/step - loss: 0.5048 - accuracy: 0.7442 - val_loss: 0.4858 - val_accuracy: 0.7640\n",
      "Epoch 97/100\n",
      "111/111 [==============================] - 0s 969us/step - loss: 0.5058 - accuracy: 0.7476 - val_loss: 0.4895 - val_accuracy: 0.7589\n",
      "Epoch 98/100\n",
      "111/111 [==============================] - 0s 995us/step - loss: 0.5047 - accuracy: 0.7470 - val_loss: 0.4887 - val_accuracy: 0.7411\n",
      "Epoch 99/100\n",
      "111/111 [==============================] - 0s 928us/step - loss: 0.5053 - accuracy: 0.7493 - val_loss: 0.4885 - val_accuracy: 0.7538\n",
      "Epoch 100/100\n",
      "111/111 [==============================] - 0s 938us/step - loss: 0.5021 - accuracy: 0.7513 - val_loss: 0.4866 - val_accuracy: 0.7614\n"
     ]
    }
   ],
   "source": [
    "# Step 2: Model train with Neural Network\n",
    "neural_network('kc_nn', kc_X_val, kc_y_val)"
   ]
  },
  {
   "cell_type": "code",
   "execution_count": 37,
   "id": "c5f1425e",
   "metadata": {},
   "outputs": [
    {
     "data": {
      "image/png": "[encoded data removed]",
      "text/plain": [
       "<Figure size 432x288 with 2 Axes>"
      ]
     },
     "metadata": {
      "needs_background": "light"
     },
     "output_type": "display_data"
    },
    {
     "name": "stdout",
     "output_type": "stream",
     "text": [
      "Accuracy of Model:  0.7614213197969543\n",
      "Test Accuracy or Neural Network 0.7614213197969543\n"
     ]
    },
    {
     "data": {
      "image/png": "[encoded data removed]",
      "text/plain": [
       "<Figure size 432x288 with 1 Axes>"
      ]
     },
     "metadata": {
      "needs_background": "light"
     },
     "output_type": "display_data"
    },
    {
     "data": {
      "image/png": "[encoded data removed]",
      "text/plain": [
       "<Figure size 432x288 with 1 Axes>"
      ]
     },
     "metadata": {
      "needs_background": "light"
     },
     "output_type": "display_data"
    }
   ],
   "source": [
    "# Step 3: \n",
    "# Display Confusion Matrix\n",
    "# Display Test Result of NN\n",
    "# Display Model Accuracy graph\n",
    "# Display Model Loss graph\n",
    "kc_nn_history = history\n",
    "test_nn_model('kc_nn', kc_X_val, kc_y_val)\n",
    "plot_loss_accuracy_graph(kc_nn_history)"
   ]
  },
  {
   "cell_type": "code",
   "execution_count": null,
   "id": "23e5f4b5",
   "metadata": {},
   "outputs": [],
   "source": [
    "# Step 4:\n",
    "# Model train with Random Forest\n",
    "# Display hierarchical graph\n",
    "# Display Confusion Matrix\n",
    "# Test Result of RF\n",
    "random_forest('kc_rf')\n",
    "display_tree('kc_rf')\n",
    "test_rf_model('kc_rf', kc_X_val, kc_y_val)"
   ]
  },
  {
   "cell_type": "code",
   "execution_count": null,
   "id": "7ee216af",
   "metadata": {},
   "outputs": [],
   "source": [
    "# Step 5:\n",
    "# Model train with Support Vector Machine\n",
    "# Display Confusion Matrix\n",
    "# Display Test Result of SVM\n",
    "svm('kc_svm')\n",
    "test_svm_model('kc_svm', kc_X_val, kc_y_val)"
   ]
  },
  {
   "cell_type": "code",
   "execution_count": null,
   "id": "ac0e7a25",
   "metadata": {},
   "outputs": [],
   "source": [
    "# Step 6: Model train with Convolutional Neural Network\n",
    "cnn('kc_cnn', kc_X_val, kc_y_val)"
   ]
  },
  {
   "cell_type": "code",
   "execution_count": null,
   "id": "ad74997c",
   "metadata": {
    "scrolled": true
   },
   "outputs": [],
   "source": [
    "# Step 7: \n",
    "# Display Confusion Matrix\n",
    "# Display Test Result of CNN\n",
    "# Display Model Accuracy graph\n",
    "# Display Model Loss graph\n",
    "kc_X_Val1 = X_val1\n",
    "kc_cnn_history = history\n",
    "test_cnn_model('kc_cnn', kc_X_Val1, kc_y_val)\n",
    "plot_loss_accuracy_graph(kc_cnn_history)"
   ]
  },
  {
   "cell_type": "code",
   "execution_count": null,
   "id": "c041a1eb",
   "metadata": {},
   "outputs": [],
   "source": [
    "# Step 8:\n",
    "# Model train with Logistic Regression\n",
    "# Model train with Ada Boosting\n",
    "# Model Train with Bagging\n",
    "\n",
    "# Step 9:\n",
    "# Test Result for Logistic Regression\n",
    "# Test Result for Ada Boosting\n",
    "# Test Result for Bagging\n",
    "# Ensemble Learning for KC Datasets\n",
    "new_val_set_X_matrix, new_val_set_y_matrix, new_test_set_X_matrix, new_test_set_y_matrix = prepare_for_ensemble_learning('kc', kc_X_val, kc_X_test, kc_y_val, kc_y_test)\n",
    "# Ensemble Training\n",
    "print(\"***********************************************************\")\n",
    "ensemble_logistic_regression_train('kc')\n",
    "ensemble_ada_boost_train('kc')\n",
    "ensemble_bagging_train('kc')\n",
    "print(\"***********************************************************\")\n",
    "\n",
    "# Ensemble Testing\n",
    "print(\"***********************************************************\")\n",
    "ensemble_logistic_regresstion_test('kc', new_test_set_X_matrix, kc_y_test)\n",
    "ensemble_ada_boost_test('kc', new_test_set_X_matrix, kc_y_test)\n",
    "ensemble_bagging_test('kc', new_test_set_X_matrix, kc_y_test)\n",
    "print(\"***********************************************************\")"
   ]
  },
  {
   "cell_type": "code",
   "execution_count": null,
   "id": "274f422d",
   "metadata": {},
   "outputs": [],
   "source": [
    "# Datasets AR\n",
    "# Step 1: Preprocess and Split for Train/Test. \n",
    "# Display Before and After Correlation Graph\n",
    "# Display data imbalance graph\n",
    "# Display data balanced graph after preprocessing\n",
    "if pre_process_data(ar_data):\n",
    "    data, data_X, data_y = pre_process_data(ar_data)\n",
    "    combined_training_data, X_train1, X_train2, X_train, ar_X_test, ar_X_val, y_train1, y_train2, y_train, ar_y_test, ar_y_val = split_data_train_test(data_X, data_y)\n",
    "else:\n",
    "    print('No Data available for training')"
   ]
  },
  {
   "cell_type": "code",
   "execution_count": null,
   "id": "3b0d7639",
   "metadata": {},
   "outputs": [],
   "source": [
    "# Step 2: Model train with Neural Network\n",
    "neural_network('ar_nn', ar_X_val, ar_y_val)"
   ]
  },
  {
   "cell_type": "code",
   "execution_count": null,
   "id": "4df9397c",
   "metadata": {},
   "outputs": [],
   "source": [
    "# Step 3: \n",
    "# Display Confusion Matrix\n",
    "# Display Test Result of NN\n",
    "# Display Model Accuracy graph\n",
    "# Display Model Loss graph\n",
    "ar_nn_history = history\n",
    "test_nn_model('ar_nn', ar_X_val, ar_y_val)\n",
    "plot_loss_accuracy_graph(ar_nn_history)"
   ]
  },
  {
   "cell_type": "code",
   "execution_count": null,
   "id": "67d88b9c",
   "metadata": {},
   "outputs": [],
   "source": [
    "# Step 4:\n",
    "# Model train with Random Forest\n",
    "# Display hierarchical graph\n",
    "# Display Confusion Matrix\n",
    "# Test Result of RF\n",
    "random_forest('ar_rf')\n",
    "display_tree('ar_rf')\n",
    "test_rf_model('ar_rf', ar_X_val, ar_y_val)"
   ]
  },
  {
   "cell_type": "code",
   "execution_count": null,
   "id": "3196daae",
   "metadata": {},
   "outputs": [],
   "source": [
    "# Step 5:\n",
    "# Model train with Support Vector Machine\n",
    "# Display Confusion Matrix\n",
    "# Display Test Result of SVM\n",
    "svm('ar_svm')\n",
    "test_svm_model('ar_svm', ar_X_val, ar_y_val)"
   ]
  },
  {
   "cell_type": "code",
   "execution_count": null,
   "id": "72224a0b",
   "metadata": {},
   "outputs": [],
   "source": [
    "# Step 6: Model train with Convolutional Neural Network\n",
    "cnn('ar_cnn', ar_X_val, ar_y_val)"
   ]
  },
  {
   "cell_type": "code",
   "execution_count": null,
   "id": "c12165de",
   "metadata": {},
   "outputs": [],
   "source": [
    "# Step 7: \n",
    "# Display Confusion Matrix\n",
    "# Display Test Result of CNN\n",
    "# Display Model Accuracy graph\n",
    "# Display Model Loss graph\n",
    "ar_X_Val1 = X_val1\n",
    "ar_cnn_history = history\n",
    "test_cnn_model('ar_cnn', ar_X_Val1, ar_y_val)\n",
    "plot_loss_accuracy_graph(ar_cnn_history)"
   ]
  },
  {
   "cell_type": "code",
   "execution_count": null,
   "id": "08f900fc",
   "metadata": {},
   "outputs": [],
   "source": [
    "# Step 8:\n",
    "# Model train with Logistic Regression\n",
    "# Model train with Ada Boosting\n",
    "# Model Train with Bagging\n",
    "\n",
    "# Step 9:\n",
    "# Test Result for Logistic Regression\n",
    "# Test Result for Ada Boosting\n",
    "# Test Result for Bagging\n",
    "# Ensemble Learning for AR Datasets\n",
    "new_val_set_X_matrix, new_val_set_y_matrix, new_test_set_X_matrix, new_test_set_y_matrix = prepare_for_ensemble_learning('ar', ar_X_val, ar_X_test, ar_y_val, ar_y_test)\n",
    "# Ensemble Training\n",
    "print(\"***********************************************************\")\n",
    "ensemble_logistic_regression_train('ar')\n",
    "ensemble_ada_boost_train('ar')\n",
    "ensemble_bagging_train('ar')\n",
    "print(\"***********************************************************\")\n",
    "\n",
    "# Ensemble Testing\n",
    "print(\"***********************************************************\")\n",
    "ensemble_logistic_regresstion_test('ar', new_test_set_X_matrix, ar_y_test)\n",
    "ensemble_ada_boost_test('ar', new_test_set_X_matrix, ar_y_test)\n",
    "ensemble_bagging_test('ar', new_test_set_X_matrix, ar_y_test)\n",
    "print(\"***********************************************************\")"
   ]
  },
  {
   "cell_type": "code",
   "execution_count": null,
   "id": "fdf4b396",
   "metadata": {},
   "outputs": [],
   "source": [
    "# Datasets MC\n",
    "# Step 1: Preprocess and Split for Train/Test. \n",
    "# Display Before and After Correlation Graph\n",
    "# Display data imbalance graph\n",
    "# Display data balanced graph after preprocessing\n",
    "if pre_process_data(mc_data):\n",
    "    data, data_X, data_y = pre_process_data(mc_data)\n",
    "    combined_training_data, X_train1, X_train2, X_train, mc_X_test, mc_X_val, y_train1, y_train2, y_train, mc_y_test, mc_y_val = split_data_train_test(data_X, data_y)\n",
    "else:\n",
    "    print('No Data available for training')"
   ]
  },
  {
   "cell_type": "code",
   "execution_count": null,
   "id": "0c392396",
   "metadata": {},
   "outputs": [],
   "source": [
    "# Step 2: Model train with Neural Network\n",
    "neural_network('mc_nn', mc_X_val, mc_y_val)"
   ]
  },
  {
   "cell_type": "code",
   "execution_count": null,
   "id": "e82d5fd8",
   "metadata": {},
   "outputs": [],
   "source": [
    "# Step 3: \n",
    "# Display Confusion Matrix\n",
    "# Display Test Result of NN\n",
    "# Display Model Accuracy graph\n",
    "# Display Model Loss graph\n",
    "mc_nn_history = history\n",
    "test_nn_model('mc_nn', mc_X_val, mc_y_val)\n",
    "plot_loss_accuracy_graph(mc_nn_history)"
   ]
  },
  {
   "cell_type": "code",
   "execution_count": null,
   "id": "9dda3d50",
   "metadata": {},
   "outputs": [],
   "source": [
    "# Step 4:\n",
    "# Model train with Random Forest\n",
    "# Display hierarchical graph\n",
    "# Display Confusion Matrix\n",
    "# Test Result of RF\n",
    "random_forest('mc_rf')\n",
    "display_tree('mc_rf')\n",
    "test_rf_model('mc_rf', mc_X_val, mc_y_val)"
   ]
  },
  {
   "cell_type": "code",
   "execution_count": null,
   "id": "bee030a1",
   "metadata": {},
   "outputs": [],
   "source": [
    "# Step 5:\n",
    "# Model train with Support Vector Machine\n",
    "# Display Confusion Matrix\n",
    "# Display Test Result of SVM\n",
    "svm('mc_svm')\n",
    "test_svm_model('mc_svm', mc_X_val, mc_y_val)"
   ]
  },
  {
   "cell_type": "code",
   "execution_count": null,
   "id": "036b122b",
   "metadata": {},
   "outputs": [],
   "source": [
    "# Step 6: Model train with Convolutional Neural Network\n",
    "cnn('mc_cnn', mc_X_val, mc_y_val)"
   ]
  },
  {
   "cell_type": "code",
   "execution_count": null,
   "id": "e50a877a",
   "metadata": {},
   "outputs": [],
   "source": [
    "# Step 7: \n",
    "# Display Confusion Matrix\n",
    "# Display Test Result of CNN\n",
    "# Display Model Accuracy graph\n",
    "# Display Model Loss graph\n",
    "mc_X_Val1 = X_val1\n",
    "mc_cnn_history = history\n",
    "test_cnn_model('mc_cnn', mc_X_Val1, mc_y_val)\n",
    "plot_loss_accuracy_graph(mc_cnn_history)"
   ]
  },
  {
   "cell_type": "code",
   "execution_count": null,
   "id": "e36575a7",
   "metadata": {},
   "outputs": [],
   "source": [
    "# Step 8:\n",
    "# Model train with Logistic Regression\n",
    "# Model train with Ada Boosting\n",
    "# Model Train with Bagging\n",
    "\n",
    "# Step 9:\n",
    "# Test Result for Logistic Regression\n",
    "# Test Result for Ada Boosting\n",
    "# Test Result for Bagging\n",
    "# Ensemble Learning for MC Datasets\n",
    "new_val_set_X_matrix, new_val_set_y_matrix, new_test_set_X_matrix, new_test_set_y_matrix = prepare_for_ensemble_learning('mc', mc_X_val, mc_X_test, mc_y_val, mc_y_test)\n",
    "# Ensemble Training\n",
    "print(\"***********************************************************\")\n",
    "ensemble_logistic_regression_train('mc')\n",
    "ensemble_ada_boost_train('mc')\n",
    "ensemble_bagging_train('mc')\n",
    "print(\"***********************************************************\")\n",
    "\n",
    "# Ensemble Testing\n",
    "print(\"***********************************************************\")\n",
    "ensemble_logistic_regresstion_test('mc', new_test_set_X_matrix, mc_y_test)\n",
    "ensemble_ada_boost_test('mc', new_test_set_X_matrix, mc_y_test)\n",
    "ensemble_bagging_test('mc', new_test_set_X_matrix, mc_y_test)\n",
    "print(\"***********************************************************\")"
   ]
  },
  {
   "cell_type": "code",
   "execution_count": null,
   "id": "706c5a08",
   "metadata": {},
   "outputs": [],
   "source": [
    "# Datasets PC\n",
    "# Step 1: Preprocess and Split for Train/Test. \n",
    "# Display Before and After Correlation Graph\n",
    "# Display data imbalance graph\n",
    "# Display data balanced graph after preprocessing\n",
    "if pre_process_data(pc_data):\n",
    "    data, data_X, data_y = pre_process_data(pc_data)\n",
    "    combined_training_data, X_train1, X_train2, X_train, pc_X_test, pc_X_val, y_train1, y_train2, y_train, pc_y_test, pc_y_val = split_data_train_test(data_X, data_y)\n",
    "else:\n",
    "    print('No Data available for training')"
   ]
  },
  {
   "cell_type": "code",
   "execution_count": null,
   "id": "9652abf0",
   "metadata": {},
   "outputs": [],
   "source": [
    "if pre_process_data(pc_data):\n",
    "    data, data_X, data_y = pre_process_data(pc_data)\n",
    "    combined_training_data, X_train1, X_train2, X_train, pc_X_test, pc_X_val, y_train1, y_train2, y_train, pc_y_test, pc_y_val = split_data_train_test(data_X, data_y)\n",
    "else:\n",
    "    print('No Data available for training')"
   ]
  },
  {
   "cell_type": "code",
   "execution_count": null,
   "id": "eadbd4b2",
   "metadata": {},
   "outputs": [],
   "source": [
    "# Step 2: Model train with Neural Network\n",
    "neural_network('pc_nn', pc_X_val, pc_y_val)"
   ]
  },
  {
   "cell_type": "code",
   "execution_count": null,
   "id": "f565989e",
   "metadata": {},
   "outputs": [],
   "source": [
    "# Step 3: \n",
    "# Display Confusion Matrix\n",
    "# Display Test Result of NN\n",
    "# Display Model Accuracy graph\n",
    "# Display Model Loss graph\n",
    "pc_nn_history = history\n",
    "test_nn_model('pc_nn', pc_X_val, pc_y_val)\n",
    "plot_loss_accuracy_graph(pc_nn_history)"
   ]
  },
  {
   "cell_type": "code",
   "execution_count": null,
   "id": "8d8f9c3c",
   "metadata": {},
   "outputs": [],
   "source": [
    "# Step 4:\n",
    "# Model train with Random Forest\n",
    "# Display hierarchical graph\n",
    "# Display Confusion Matrix\n",
    "# Test Result of RF\n",
    "random_forest('pc_rf')\n",
    "display_tree('pc_rf')\n",
    "test_rf_model('pc_rf', pc_X_val, pc_y_val)"
   ]
  },
  {
   "cell_type": "code",
   "execution_count": null,
   "id": "1a78d4ca",
   "metadata": {},
   "outputs": [],
   "source": [
    "# Step 5:\n",
    "# Model train with Support Vector Machine\n",
    "# Display Confusion Matrix\n",
    "# Display Test Result of SVM\n",
    "svm('pc_svm')\n",
    "test_svm_model('pc_svm', pc_X_val, pc_y_val)"
   ]
  },
  {
   "cell_type": "code",
   "execution_count": null,
   "id": "0bcae335",
   "metadata": {},
   "outputs": [],
   "source": [
    "# Step 6: Model train with Convolutional Neural Network\n",
    "cnn('pc_cnn', pc_X_val, pc_y_val)"
   ]
  },
  {
   "cell_type": "code",
   "execution_count": null,
   "id": "102029e3",
   "metadata": {
    "scrolled": true
   },
   "outputs": [],
   "source": [
    "# Step 7: \n",
    "# Display Confusion Matrix\n",
    "# Display Test Result of CNN\n",
    "# Display Model Accuracy graph\n",
    "# Display Model Loss graph\n",
    "pc_X_Val1 = X_val1\n",
    "pc_cnn_history = history\n",
    "test_cnn_model('pc_cnn', pc_X_Val1, pc_y_val)\n",
    "plot_loss_accuracy_graph(pc_cnn_history)"
   ]
  },
  {
   "cell_type": "code",
   "execution_count": null,
   "id": "8e5c0243",
   "metadata": {},
   "outputs": [],
   "source": [
    "# Step 8:\n",
    "# Model train with Logistic Regression\n",
    "# Model train with Ada Boosting\n",
    "# Model Train with Bagging\n",
    "\n",
    "# Step 9:\n",
    "# Test Result for Logistic Regression\n",
    "# Test Result for Ada Boosting\n",
    "# Test Result for Bagging\n",
    "# Ensemble Learning for CM Datasets\n",
    "new_val_set_X_matrix, new_val_set_y_matrix, new_test_set_X_matrix, new_test_set_y_matrix = prepare_for_ensemble_learning('pc', pc_X_val, pc_X_test, pc_y_val, pc_y_test)\n",
    "# Ensemble Training\n",
    "print(\"***********************************************************\")\n",
    "ensemble_logistic_regression_train('pc')\n",
    "ensemble_ada_boost_train('pc')\n",
    "ensemble_bagging_train('pc')\n",
    "print(\"***********************************************************\")\n",
    "\n",
    "# Ensemble Testing\n",
    "print(\"***********************************************************\")\n",
    "ensemble_logistic_regresstion_test('pc', new_test_set_X_matrix, pc_y_test)\n",
    "ensemble_ada_boost_test('pc', new_test_set_X_matrix, pc_y_test)\n",
    "ensemble_bagging_test('pc', new_test_set_X_matrix, pc_y_test)\n",
    "print(\"***********************************************************\")"
   ]
  },
  {
   "cell_type": "code",
   "execution_count": null,
   "id": "736b6de8",
   "metadata": {},
   "outputs": [],
   "source": [
    "# Datasets CM\n",
    "# Step 1: Preprocess and Split for Train/Test. \n",
    "# Display Before and After Correlation Graph\n",
    "# Display data imbalance graph\n",
    "# Display data balanced graph after preprocessing\n",
    "if pre_process_data(cm_data):\n",
    "    data, data_X, data_y = pre_process_data(cm_data)\n",
    "    combined_training_data, X_train1, X_train2, X_train, cm_X_test, cm_X_val, y_train1, y_train2, y_train, cm_y_test, cm_y_val = split_data_train_test(data_X, data_y)\n",
    "else:\n",
    "    print('No Data available for training')"
   ]
  },
  {
   "cell_type": "code",
   "execution_count": null,
   "id": "b043a036",
   "metadata": {},
   "outputs": [],
   "source": [
    "# Step 2: Model train with Neural Network\n",
    "neural_network('cm_nn', cm_X_val, cm_y_val)"
   ]
  },
  {
   "cell_type": "code",
   "execution_count": null,
   "id": "bf4834e7",
   "metadata": {},
   "outputs": [],
   "source": [
    "# Step 3: \n",
    "# Display Confusion Matrix\n",
    "# Display Test Result of NN\n",
    "# Display Model Accuracy graph\n",
    "# Display Model Loss graph\n",
    "cm_nn_history = history\n",
    "test_nn_model('cm_nn', cm_X_val, cm_y_val)\n",
    "plot_loss_accuracy_graph(cm_nn_history)"
   ]
  },
  {
   "cell_type": "code",
   "execution_count": null,
   "id": "ac22d737",
   "metadata": {},
   "outputs": [],
   "source": [
    "# Step 4:\n",
    "# Model train with Random Forest\n",
    "# Display hierarchical graph\n",
    "# Display Confusion Matrix\n",
    "# Test Result of RF\n",
    "random_forest('cm_rf')\n",
    "display_tree('cm_rf')\n",
    "test_rf_model('cm_rf', cm_X_val, cm_y_val)"
   ]
  },
  {
   "cell_type": "code",
   "execution_count": null,
   "id": "875f7756",
   "metadata": {},
   "outputs": [],
   "source": [
    "# Step 5:\n",
    "# Model train with Support Vector Machine\n",
    "# Display Confusion Matrix\n",
    "# Display Test Result of SVM\n",
    "svm('cm_svm')\n",
    "test_svm_model('cm_svm', cm_X_val, cm_y_val)"
   ]
  },
  {
   "cell_type": "code",
   "execution_count": null,
   "id": "9208bc58",
   "metadata": {},
   "outputs": [],
   "source": [
    "# Step 6: Model train with Convolutional Neural Network\n",
    "cnn('cm_cnn', cm_X_val, cm_y_val)"
   ]
  },
  {
   "cell_type": "code",
   "execution_count": null,
   "id": "cc7397d5",
   "metadata": {},
   "outputs": [],
   "source": [
    "# Step 7: \n",
    "# Display Confusion Matrix\n",
    "# Display Test Result of CNN\n",
    "# Display Model Accuracy graph\n",
    "# Display Model Loss graph\n",
    "cm_X_Val1 = X_val1\n",
    "cm_cnn_history = history\n",
    "test_cnn_model('cm_cnn', cm_X_Val1, cm_y_val)\n",
    "plot_loss_accuracy_graph(cm_cnn_history)"
   ]
  },
  {
   "cell_type": "code",
   "execution_count": null,
   "id": "ed8fc93c",
   "metadata": {},
   "outputs": [],
   "source": [
    "# Step 8:\n",
    "# Model train with Logistic Regression\n",
    "# Model train with Ada Boosting\n",
    "# Model Train with Bagging\n",
    "\n",
    "# Step 9:\n",
    "# Test Result for Logistic Regression\n",
    "# Test Result for Ada Boosting\n",
    "# Test Result for Bagging\n",
    "# Ensemble Learning for CM Datasets\n",
    "new_val_set_X_matrix, new_val_set_y_matrix, new_test_set_X_matrix, new_test_set_y_matrix = prepare_for_ensemble_learning('cm', cm_X_val, cm_X_test, cm_y_val, cm_y_test)\n",
    "# Ensemble Training\n",
    "print(\"***********************************************************\")\n",
    "ensemble_logistic_regression_train('cm')\n",
    "ensemble_ada_boost_train('cm')\n",
    "ensemble_bagging_train('cm')\n",
    "print(\"***********************************************************\")\n",
    "\n",
    "# Ensemble Testing\n",
    "print(\"***********************************************************\")\n",
    "ensemble_logistic_regresstion_test('cm', new_test_set_X_matrix, cm_y_test)\n",
    "ensemble_ada_boost_test('cm', new_test_set_X_matrix, cm_y_test)\n",
    "ensemble_bagging_test('cm', new_test_set_X_matrix, cm_y_test)\n",
    "print(\"***********************************************************\")"
   ]
  }
 ],
 "metadata": {
  "kernelspec": {
   "display_name": "Python 3",
   "language": "python",
   "name": "python3"
  },
  "language_info": {
   "codemirror_mode": {
    "name": "ipython",
    "version": 3
   },
   "file_extension": ".py",
   "mimetype": "text/x-python",
   "name": "python",
   "nbconvert_exporter": "python",
   "pygments_lexer": "ipython3",
   "version": "3.8.8"
  }
 },
 "nbformat": 4,
 "nbformat_minor": 5
}
